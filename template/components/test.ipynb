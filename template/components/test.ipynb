{
 "cells": [
  {
   "cell_type": "code",
   "execution_count": 1,
   "metadata": {
    "collapsed": true
   },
   "outputs": [],
   "source": [
    "import os\n",
    "os.chdir(r'D:\\比赛\\template_with_training\\baseline')"
   ]
  },
  {
   "cell_type": "code",
   "execution_count": 2,
   "outputs": [],
   "source": [
    "from utils.feature_extraction import feature_extraction\n",
    "from utils.config import cfg"
   ],
   "metadata": {
    "collapsed": false
   }
  },
  {
   "cell_type": "code",
   "execution_count": 3,
   "outputs": [],
   "source": [
    "training_ok_path = cfg.training_ok_path\n",
    "training_ng_path = cfg.training_ng_path\n",
    "training_ok_path_mod = cfg.training_ok_path_mod\n",
    "training_ng_path_mod = cfg.training_ng_path_mod"
   ],
   "metadata": {
    "collapsed": false
   }
  },
  {
   "cell_type": "code",
   "execution_count": 4,
   "outputs": [
    {
     "name": "stderr",
     "output_type": "stream",
     "text": [
      "重新生成的训练样本: 100%|██████████| 401/401 [00:06<00:00, 57.94it/s] \n",
      "重新生成的训练样本: 100%|██████████| 401/401 [00:07<00:00, 56.88it/s] \n",
      "正在抽取特征:   0%|          | 0/401 [00:00<?, ?it/s]\n",
      "Feature Extraction:   0%|          | 0/20 [00:00<?, ?it/s]\u001B[A\n",
      "Feature Extraction:   5%|▌         | 1/20 [00:03<01:01,  3.25s/it]\u001B[A\n",
      "Feature Extraction:  25%|██▌       | 5/20 [00:03<00:09,  1.57it/s]\u001B[A\n",
      "Feature Extraction:  35%|███▌      | 7/20 [00:04<00:05,  2.40it/s]\u001B[A\n",
      "Feature Extraction:  45%|████▌     | 9/20 [00:04<00:04,  2.65it/s]\u001B[A\n",
      "Feature Extraction:  50%|█████     | 10/20 [00:04<00:03,  3.04it/s]\u001B[A\n",
      "Feature Extraction:  65%|██████▌   | 13/20 [00:05<00:01,  3.76it/s]\u001B[A\n",
      "Feature Extraction:  70%|███████   | 14/20 [00:05<00:01,  4.15it/s]\u001B[A\n",
      "Feature Extraction:  80%|████████  | 16/20 [00:05<00:00,  5.57it/s]\u001B[A\n",
      "Feature Extraction:  90%|█████████ | 18/20 [00:06<00:00,  4.40it/s]\u001B[A\n",
      "Feature Extraction: 100%|██████████| 20/20 [00:06<00:00,  3.12it/s]\u001B[A\n",
      "正在抽取P1110-Report_P1110_QI_Hysteresis_Clutch-LUB_UCL_2nd_Y:  94%|█████████▍| 377/401 [00:07<00:00, 48.46it/s]\n",
      "Feature Extraction:   0%|          | 0/20 [00:00<?, ?it/s]\u001B[A\n",
      "Feature Extraction:   5%|▌         | 1/20 [00:03<01:02,  3.28s/it]\u001B[A\n",
      "Feature Extraction:  15%|█▌        | 3/20 [00:03<00:15,  1.12it/s]\u001B[A\n",
      "Feature Extraction:  25%|██▌       | 5/20 [00:04<00:09,  1.60it/s]\u001B[A\n",
      "Feature Extraction:  40%|████      | 8/20 [00:04<00:03,  3.07it/s]\u001B[A\n",
      "Feature Extraction:  50%|█████     | 10/20 [00:05<00:03,  2.98it/s]\u001B[A\n",
      "Feature Extraction:  60%|██████    | 12/20 [00:05<00:01,  4.09it/s]\u001B[A\n",
      "Feature Extraction:  70%|███████   | 14/20 [00:05<00:01,  3.49it/s]\u001B[A\n",
      "Feature Extraction:  80%|████████  | 16/20 [00:06<00:00,  4.50it/s]\u001B[A\n",
      "Feature Extraction: 100%|██████████| 20/20 [00:06<00:00,  2.94it/s]\u001B[A\n",
      "\n",
      "Feature Extraction:   0%|          | 0/20 [00:00<?, ?it/s]\u001B[A\n",
      "Feature Extraction:   5%|▌         | 1/20 [00:03<01:03,  3.33s/it]\u001B[A\n",
      "Feature Extraction:  10%|█         | 2/20 [00:03<00:25,  1.44s/it]\u001B[A\n",
      "Feature Extraction:  25%|██▌       | 5/20 [00:04<00:08,  1.78it/s]\u001B[A\n",
      "Feature Extraction:  35%|███▌      | 7/20 [00:04<00:04,  2.68it/s]\u001B[A\n",
      "Feature Extraction:  45%|████▌     | 9/20 [00:04<00:03,  2.93it/s]\u001B[A\n",
      "Feature Extraction:  55%|█████▌    | 11/20 [00:05<00:02,  3.86it/s]\u001B[A\n",
      "Feature Extraction:  65%|██████▌   | 13/20 [00:05<00:01,  3.69it/s]\u001B[A\n",
      "Feature Extraction:  75%|███████▌  | 15/20 [00:05<00:01,  4.49it/s]\u001B[A\n",
      "Feature Extraction:  85%|████████▌ | 17/20 [00:06<00:00,  4.30it/s]\u001B[A\n",
      "Feature Extraction: 100%|██████████| 20/20 [00:06<00:00,  2.98it/s]\u001B[A\n",
      "\n",
      "正在抽取P1110-Report_P1110_QI_Hysteresis_Clutch-LUB_X:  95%|█████████▍| 379/401 [00:25<00:00, 48.46it/s]        \n",
      "Feature Extraction:   5%|▌         | 1/20 [00:04<01:16,  4.02s/it]\u001B[A\n",
      "Feature Extraction:  25%|██▌       | 5/20 [00:05<00:13,  1.11it/s]\u001B[A\n",
      "Feature Extraction:  30%|███       | 6/20 [00:05<00:10,  1.39it/s]\u001B[A\n",
      "Feature Extraction:  45%|████▌     | 9/20 [00:06<00:06,  1.72it/s]\u001B[A\n",
      "Feature Extraction:  55%|█████▌    | 11/20 [00:07<00:03,  2.34it/s]\u001B[A\n",
      "Feature Extraction:  65%|██████▌   | 13/20 [00:08<00:03,  2.11it/s]\u001B[A\n",
      "Feature Extraction:  70%|███████   | 14/20 [00:08<00:02,  2.40it/s]\u001B[A\n",
      "Feature Extraction:  75%|███████▌  | 15/20 [00:08<00:01,  2.65it/s]\u001B[A\n",
      "Feature Extraction:  85%|████████▌ | 17/20 [00:09<00:01,  2.28it/s]\u001B[A\n",
      "Feature Extraction:  90%|█████████ | 18/20 [00:09<00:00,  2.61it/s]\u001B[A\n",
      "Feature Extraction: 100%|██████████| 20/20 [00:10<00:00,  1.97it/s]\u001B[A\n",
      "正在抽取P1110-Report_P1110_QI_Hysteresis_Clutch-LUB_X:  95%|█████████▍| 380/401 [00:35<00:02,  8.12it/s]\n",
      "Feature Extraction:   0%|          | 0/20 [00:00<?, ?it/s]\u001B[A\n",
      "Feature Extraction:   5%|▌         | 1/20 [00:03<01:03,  3.36s/it]\u001B[A\n",
      "Feature Extraction:  15%|█▌        | 3/20 [00:03<00:15,  1.09it/s]\u001B[A\n",
      "Feature Extraction:  25%|██▌       | 5/20 [00:04<00:09,  1.61it/s]\u001B[A\n",
      "Feature Extraction:  35%|███▌      | 7/20 [00:04<00:04,  2.61it/s]\u001B[A\n",
      "Feature Extraction:  45%|████▌     | 9/20 [00:04<00:04,  2.73it/s]\u001B[A\n",
      "Feature Extraction:  55%|█████▌    | 11/20 [00:05<00:02,  3.83it/s]\u001B[A\n",
      "Feature Extraction:  65%|██████▌   | 13/20 [00:05<00:02,  3.35it/s]\u001B[A\n",
      "Feature Extraction:  75%|███████▌  | 15/20 [00:05<00:01,  4.53it/s]\u001B[A\n",
      "Feature Extraction:  85%|████████▌ | 17/20 [00:06<00:00,  3.87it/s]\u001B[A\n",
      "Feature Extraction: 100%|██████████| 20/20 [00:06<00:00,  2.95it/s]\u001B[A\n",
      "正在抽取P1110-Report_P1110_QI_Hysteresis_Clutch-LUB_Y:  95%|█████████▌| 381/401 [00:43<00:03,  6.05it/s]\n",
      "Feature Extraction:   0%|          | 0/20 [00:00<?, ?it/s]\u001B[A\n",
      "Feature Extraction:   5%|▌         | 1/20 [00:04<01:29,  4.69s/it]\u001B[A\n",
      "Feature Extraction:  15%|█▌        | 3/20 [00:04<00:21,  1.25s/it]\u001B[A\n",
      "Feature Extraction:  25%|██▌       | 5/20 [00:07<00:18,  1.21s/it]\u001B[A\n",
      "Feature Extraction:  30%|███       | 6/20 [00:07<00:12,  1.08it/s]\u001B[A\n",
      "Feature Extraction:  40%|████      | 8/20 [00:07<00:06,  1.79it/s]\u001B[A\n",
      "Feature Extraction:  45%|████▌     | 9/20 [00:09<00:10,  1.04it/s]\u001B[A\n",
      "Feature Extraction:  55%|█████▌    | 11/20 [00:09<00:05,  1.64it/s]\u001B[A\n",
      "正在抽取P1120-MeasuredData_Pressure_Axis_LUB_Raw:  95%|█████████▌| 381/401 [00:55<00:03,  6.05it/s]     \n",
      "Feature Extraction:  70%|███████   | 14/20 [00:12<00:04,  1.46it/s]\u001B[A\n",
      "Feature Extraction:  75%|███████▌  | 15/20 [00:12<00:02,  1.73it/s]\u001B[A\n",
      "Feature Extraction:  80%|████████  | 16/20 [00:12<00:01,  2.13it/s]\u001B[A\n",
      "Feature Extraction:  85%|████████▌ | 17/20 [00:14<00:02,  1.31it/s]\u001B[A\n",
      "Feature Extraction:  90%|█████████ | 18/20 [00:14<00:01,  1.42it/s]\u001B[A\n",
      "Feature Extraction:  95%|█████████▌| 19/20 [00:14<00:00,  1.83it/s]\u001B[A\n",
      "Feature Extraction: 100%|██████████| 20/20 [00:14<00:00,  1.33it/s]\u001B[A\n",
      "正在抽取P1120-MeasuredData_Pressure_Axis_LUB_Raw:  95%|█████████▌| 382/401 [01:00<00:05,  3.41it/s]\n",
      "Feature Extraction:   0%|          | 0/20 [00:00<?, ?it/s]\u001B[A\n",
      "Feature Extraction:   5%|▌         | 1/20 [00:04<01:28,  4.68s/it]\u001B[A\n",
      "Feature Extraction:  10%|█         | 2/20 [00:04<00:35,  1.99s/it]\u001B[A\n",
      "Feature Extraction:  20%|██        | 4/20 [00:04<00:12,  1.28it/s]\u001B[A\n",
      "Feature Extraction:  30%|███       | 6/20 [00:07<00:13,  1.00it/s]\u001B[A\n",
      "Feature Extraction:  40%|████      | 8/20 [00:07<00:07,  1.59it/s]\u001B[A\n",
      "Feature Extraction:  45%|████▌     | 9/20 [00:09<00:11,  1.01s/it]\u001B[A\n",
      "Feature Extraction:  55%|█████▌    | 11/20 [00:10<00:05,  1.54it/s]\u001B[A\n",
      "Feature Extraction:  65%|██████▌   | 13/20 [00:11<00:05,  1.34it/s]\u001B[A\n",
      "Feature Extraction:  70%|███████   | 14/20 [00:12<00:04,  1.38it/s]\u001B[A\n",
      "Feature Extraction:  75%|███████▌  | 15/20 [00:12<00:02,  1.68it/s]\u001B[A\n",
      "Feature Extraction:  80%|████████  | 16/20 [00:12<00:01,  2.05it/s]\u001B[A\n",
      "Feature Extraction:  85%|████████▌ | 17/20 [00:14<00:02,  1.28it/s]\u001B[A\n",
      "Feature Extraction:  90%|█████████ | 18/20 [00:15<00:01,  1.32it/s]\u001B[A\n",
      "Feature Extraction:  95%|█████████▌| 19/20 [00:15<00:00,  1.72it/s]\u001B[A\n",
      "Feature Extraction: 100%|██████████| 20/20 [00:15<00:00,  1.30it/s]\u001B[A\n",
      "正在抽取P1120-MeasuredData_Pressure_Clamping_Raw:  96%|█████████▌| 383/401 [01:17<00:08,  2.10it/s]\n",
      "Feature Extraction:   0%|          | 0/20 [00:00<?, ?it/s]\u001B[A\n",
      "Feature Extraction:   5%|▌         | 1/20 [00:04<01:26,  4.53s/it]\u001B[A\n",
      "Feature Extraction:  25%|██▌       | 5/20 [00:06<00:17,  1.17s/it]\u001B[A\n",
      "Feature Extraction:  30%|███       | 6/20 [00:07<00:13,  1.07it/s]\u001B[A\n",
      "Feature Extraction:  45%|████▌     | 9/20 [00:09<00:09,  1.20it/s]\u001B[A\n",
      "Feature Extraction:  55%|█████▌    | 11/20 [00:09<00:05,  1.63it/s]\u001B[A\n",
      "Feature Extraction:  65%|██████▌   | 13/20 [00:11<00:04,  1.52it/s]\u001B[A\n",
      "Feature Extraction:  70%|███████   | 14/20 [00:11<00:03,  1.54it/s]\u001B[A\n",
      "Feature Extraction:  75%|███████▌  | 15/20 [00:11<00:02,  1.71it/s]\u001B[A\n",
      "Feature Extraction:  80%|████████  | 16/20 [00:12<00:01,  2.07it/s]\u001B[A\n",
      "Feature Extraction:  85%|████████▌ | 17/20 [00:13<00:02,  1.45it/s]\u001B[A\n",
      "Feature Extraction:  90%|█████████ | 18/20 [00:13<00:01,  1.54it/s]\u001B[A\n",
      "Feature Extraction:  95%|█████████▌| 19/20 [00:14<00:00,  1.83it/s]\u001B[A\n",
      "Feature Extraction: 100%|██████████| 20/20 [00:14<00:00,  1.39it/s]\u001B[A\n",
      "正在抽取P1120-MeasuredData_Pressure_Line_Input_Raw:  96%|█████████▌| 384/401 [01:34<00:12,  1.40it/s]\n",
      "Feature Extraction:   0%|          | 0/20 [00:00<?, ?it/s]\u001B[A\n",
      "Feature Extraction:   5%|▌         | 1/20 [00:04<01:25,  4.50s/it]\u001B[A\n",
      "Feature Extraction:  25%|██▌       | 5/20 [00:06<00:17,  1.13s/it]\u001B[A\n",
      "Feature Extraction:  30%|███       | 6/20 [00:06<00:12,  1.11it/s]\u001B[A\n",
      "Feature Extraction:  40%|████      | 8/20 [00:06<00:06,  1.78it/s]\u001B[A\n",
      "Feature Extraction:  45%|████▌     | 9/20 [00:08<00:09,  1.13it/s]\u001B[A\n",
      "Feature Extraction:  55%|█████▌    | 11/20 [00:09<00:05,  1.72it/s]\u001B[A\n",
      "Feature Extraction:  65%|██████▌   | 13/20 [00:10<00:04,  1.55it/s]\u001B[A\n",
      "Feature Extraction:  70%|███████   | 14/20 [00:11<00:03,  1.63it/s]\u001B[A\n",
      "Feature Extraction:  75%|███████▌  | 15/20 [00:11<00:02,  1.91it/s]\u001B[A\n",
      "Feature Extraction:  80%|████████  | 16/20 [00:11<00:01,  2.31it/s]\u001B[A\n",
      "Feature Extraction:  85%|████████▌ | 17/20 [00:12<00:02,  1.49it/s]\u001B[A\n",
      "Feature Extraction:  90%|█████████ | 18/20 [00:13<00:01,  1.66it/s]\u001B[A\n",
      "Feature Extraction:  95%|█████████▌| 19/20 [00:13<00:00,  2.03it/s]\u001B[A\n",
      "Feature Extraction: 100%|██████████| 20/20 [00:13<00:00,  1.46it/s]\u001B[A\n",
      "正在抽取P1120-MeasuredData_Temperature_Pipe_Raw:  96%|█████████▌| 385/401 [01:49<00:16,  1.03s/it]   \n",
      "Feature Extraction:   0%|          | 0/20 [00:00<?, ?it/s]\u001B[A\n",
      "Feature Extraction:   5%|▌         | 1/20 [00:04<01:17,  4.07s/it]\u001B[A\n",
      "Feature Extraction:  15%|█▌        | 3/20 [00:04<00:18,  1.10s/it]\u001B[A\n",
      "Feature Extraction:  25%|██▌       | 5/20 [00:05<00:14,  1.04it/s]\u001B[A\n",
      "Feature Extraction:  35%|███▌      | 7/20 [00:06<00:07,  1.66it/s]\u001B[A\n",
      "Feature Extraction:  45%|████▌     | 9/20 [00:07<00:07,  1.44it/s]\u001B[A\n",
      "Feature Extraction:  55%|█████▌    | 11/20 [00:07<00:04,  2.06it/s]\u001B[A\n",
      "Feature Extraction:  65%|██████▌   | 13/20 [00:09<00:03,  1.77it/s]\u001B[A\n",
      "Feature Extraction:  70%|███████   | 14/20 [00:09<00:03,  1.96it/s]\u001B[A\n",
      "Feature Extraction:  75%|███████▌  | 15/20 [00:09<00:02,  2.29it/s]\u001B[A\n",
      "Feature Extraction:  80%|████████  | 16/20 [00:09<00:01,  2.77it/s]\u001B[A\n",
      "Feature Extraction:  85%|████████▌ | 17/20 [00:11<00:01,  1.69it/s]\u001B[A\n",
      "Feature Extraction:  90%|█████████ | 18/20 [00:11<00:01,  1.84it/s]\u001B[A\n",
      "Feature Extraction: 100%|██████████| 20/20 [00:11<00:00,  1.69it/s]\u001B[A\n",
      "正在抽取P1120-MeasuredData_Time:  96%|█████████▋| 386/401 [02:03<00:21,  1.40s/it]                \n",
      "Feature Extraction:   0%|          | 0/20 [00:00<?, ?it/s]\u001B[A\n",
      "Feature Extraction:   5%|▌         | 1/20 [00:04<01:24,  4.42s/it]\u001B[A\n",
      "Feature Extraction:  25%|██▌       | 5/20 [00:06<00:15,  1.05s/it]\u001B[A\n",
      "Feature Extraction:  30%|███       | 6/20 [00:06<00:11,  1.20it/s]\u001B[A\n",
      "Feature Extraction:  40%|████      | 8/20 [00:06<00:06,  1.92it/s]\u001B[A\n",
      "Feature Extraction:  45%|████▌     | 9/20 [00:08<00:08,  1.32it/s]\u001B[A\n",
      "Feature Extraction:  50%|█████     | 10/20 [00:08<00:06,  1.66it/s]\u001B[A\n",
      "Feature Extraction:  60%|██████    | 12/20 [00:08<00:03,  2.54it/s]\u001B[A\n",
      "Feature Extraction:  65%|██████▌   | 13/20 [00:09<00:04,  1.63it/s]\u001B[A\n",
      "Feature Extraction:  70%|███████   | 14/20 [00:10<00:03,  1.87it/s]\u001B[A\n",
      "Feature Extraction:  75%|███████▌  | 15/20 [00:10<00:02,  2.20it/s]\u001B[A\n",
      "Feature Extraction:  85%|████████▌ | 17/20 [00:11<00:01,  1.84it/s]\u001B[A\n",
      "Feature Extraction:  90%|█████████ | 18/20 [00:11<00:00,  2.14it/s]\u001B[A\n",
      "Feature Extraction: 100%|██████████| 20/20 [00:12<00:00,  1.66it/s]\u001B[A\n",
      "正在抽取P1120-Report_P1120_Pressure_Axis_LUB:  97%|█████████▋| 387/401 [02:17<00:26,  1.90s/it]\n",
      "Feature Extraction:   0%|          | 0/20 [00:00<?, ?it/s]\u001B[A\n",
      "Feature Extraction:   5%|▌         | 1/20 [00:04<01:21,  4.30s/it]\u001B[A\n",
      "Feature Extraction:  20%|██        | 4/20 [00:04<00:13,  1.18it/s]\u001B[A\n",
      "Feature Extraction:  30%|███       | 6/20 [00:06<00:11,  1.17it/s]\u001B[A\n",
      "Feature Extraction:  45%|████▌     | 9/20 [00:07<00:08,  1.37it/s]\u001B[A\n",
      "Feature Extraction:  55%|█████▌    | 11/20 [00:08<00:04,  1.93it/s]\u001B[A\n",
      "Feature Extraction:  65%|██████▌   | 13/20 [00:09<00:04,  1.74it/s]\u001B[A\n",
      "Feature Extraction:  70%|███████   | 14/20 [00:09<00:02,  2.01it/s]\u001B[A\n",
      "Feature Extraction:  75%|███████▌  | 15/20 [00:09<00:02,  2.27it/s]\u001B[A\n",
      "Feature Extraction:  80%|████████  | 16/20 [00:10<00:01,  2.61it/s]\u001B[A\n",
      "Feature Extraction:  85%|████████▌ | 17/20 [00:11<00:01,  1.76it/s]\u001B[A\n",
      "Feature Extraction:  90%|█████████ | 18/20 [00:11<00:00,  2.16it/s]\u001B[A\n",
      "Feature Extraction:  95%|█████████▌| 19/20 [00:11<00:00,  2.65it/s]\u001B[A\n",
      "Feature Extraction: 100%|██████████| 20/20 [00:11<00:00,  1.71it/s]\u001B[A\n",
      "正在抽取P1120-Report_P1120_Time:  97%|█████████▋| 388/401 [02:30<00:32,  2.52s/it]             \n",
      "Feature Extraction:   0%|          | 0/20 [00:00<?, ?it/s]\u001B[A\n",
      "Feature Extraction:   5%|▌         | 1/20 [00:03<01:11,  3.79s/it]\u001B[A\n",
      "Feature Extraction:  25%|██▌       | 5/20 [00:05<00:12,  1.17it/s]\u001B[A\n",
      "Feature Extraction:  30%|███       | 6/20 [00:05<00:09,  1.45it/s]\u001B[A\n",
      "Feature Extraction:  40%|████      | 8/20 [00:05<00:05,  2.24it/s]\u001B[A\n",
      "Feature Extraction:  45%|████▌     | 9/20 [00:06<00:06,  1.68it/s]\u001B[A\n",
      "Feature Extraction:  55%|█████▌    | 11/20 [00:06<00:03,  2.48it/s]\u001B[A\n",
      "Feature Extraction:  60%|██████    | 12/20 [00:06<00:02,  2.94it/s]\u001B[A\n",
      "Feature Extraction:  65%|██████▌   | 13/20 [00:07<00:03,  2.03it/s]\u001B[A\n",
      "Feature Extraction:  70%|███████   | 14/20 [00:08<00:02,  2.48it/s]\u001B[A\n",
      "Feature Extraction:  75%|███████▌  | 15/20 [00:08<00:01,  2.86it/s]\u001B[A\n",
      "Feature Extraction:  80%|████████  | 16/20 [00:08<00:01,  3.41it/s]\u001B[A\n",
      "Feature Extraction:  85%|████████▌ | 17/20 [00:09<00:01,  2.12it/s]\u001B[A\n",
      "Feature Extraction:  90%|█████████ | 18/20 [00:09<00:00,  2.73it/s]\u001B[A\n",
      "Feature Extraction: 100%|██████████| 20/20 [00:09<00:00,  2.07it/s]\u001B[A\n",
      "正在抽取P1130-MeasuredData_Flow_Axis_LUB_Raw:  97%|█████████▋| 389/401 [02:42<00:38,  3.18s/it]\n",
      "Feature Extraction:   0%|          | 0/20 [00:00<?, ?it/s]\u001B[A\n",
      "Feature Extraction:   5%|▌         | 1/20 [00:03<01:07,  3.53s/it]\u001B[A\n",
      "Feature Extraction:  15%|█▌        | 3/20 [00:03<00:16,  1.05it/s]\u001B[A\n",
      "Feature Extraction:  25%|██▌       | 5/20 [00:04<00:11,  1.27it/s]\u001B[A\n",
      "Feature Extraction:  30%|███       | 6/20 [00:05<00:08,  1.63it/s]\u001B[A\n",
      "Feature Extraction:  40%|████      | 8/20 [00:05<00:04,  2.68it/s]\u001B[A\n",
      "Feature Extraction:  50%|█████     | 10/20 [00:06<00:04,  2.03it/s]\u001B[A\n",
      "Feature Extraction:  60%|██████    | 12/20 [00:06<00:02,  2.84it/s]\u001B[A\n",
      "Feature Extraction:  65%|██████▌   | 13/20 [00:07<00:03,  2.03it/s]\u001B[A\n",
      "Feature Extraction:  70%|███████   | 14/20 [00:07<00:02,  2.47it/s]\u001B[A\n",
      "Feature Extraction:  75%|███████▌  | 15/20 [00:08<00:01,  2.71it/s]\u001B[A\n",
      "Feature Extraction:  85%|████████▌ | 17/20 [00:09<00:01,  2.23it/s]\u001B[A\n",
      "Feature Extraction: 100%|██████████| 20/20 [00:09<00:00,  2.09it/s]\u001B[A\n",
      "正在抽取P1130-MeasuredData_Flow_Clutch_LUB_Raw:  97%|█████████▋| 390/401 [02:54<00:43,  3.96s/it]\n",
      "Feature Extraction:   0%|          | 0/20 [00:00<?, ?it/s]\u001B[A\n",
      "Feature Extraction:   5%|▌         | 1/20 [00:03<01:07,  3.56s/it]\u001B[A\n",
      "Feature Extraction:  10%|█         | 2/20 [00:03<00:27,  1.53s/it]\u001B[A\n",
      "Feature Extraction:  20%|██        | 4/20 [00:03<00:09,  1.66it/s]\u001B[A\n",
      "Feature Extraction:  30%|███       | 6/20 [00:05<00:08,  1.59it/s]\u001B[A\n",
      "Feature Extraction:  40%|████      | 8/20 [00:05<00:05,  2.38it/s]\u001B[A\n",
      "Feature Extraction:  45%|████▌     | 9/20 [00:06<00:06,  1.74it/s]\u001B[A\n",
      "Feature Extraction:  55%|█████▌    | 11/20 [00:06<00:03,  2.58it/s]\u001B[A\n",
      "Feature Extraction:  60%|██████    | 12/20 [00:06<00:02,  3.04it/s]\u001B[A\n",
      "Feature Extraction:  65%|██████▌   | 13/20 [00:07<00:03,  2.09it/s]\u001B[A\n",
      "Feature Extraction:  70%|███████   | 14/20 [00:07<00:02,  2.46it/s]\u001B[A\n",
      "Feature Extraction:  75%|███████▌  | 15/20 [00:08<00:01,  2.72it/s]\u001B[A\n",
      "Feature Extraction:  80%|████████  | 16/20 [00:08<00:01,  3.36it/s]\u001B[A\n",
      "Feature Extraction:  85%|████████▌ | 17/20 [00:09<00:01,  2.10it/s]\u001B[A\n",
      "Feature Extraction:  90%|█████████ | 18/20 [00:09<00:00,  2.64it/s]\u001B[A\n",
      "Feature Extraction: 100%|██████████| 20/20 [00:09<00:00,  2.08it/s]\u001B[A\n",
      "正在抽取P1130-MeasuredData_Flow_Input_Raw:  98%|█████████▊| 391/401 [03:05<00:48,  4.85s/it]     \n",
      "Feature Extraction:   0%|          | 0/20 [00:00<?, ?it/s]\u001B[A\n",
      "Feature Extraction:   5%|▌         | 1/20 [00:03<01:08,  3.60s/it]\u001B[A\n",
      "Feature Extraction:  20%|██        | 4/20 [00:03<00:11,  1.39it/s]\u001B[A\n",
      "Feature Extraction:  30%|███       | 6/20 [00:05<00:09,  1.41it/s]\u001B[A\n",
      "Feature Extraction:  45%|████▌     | 9/20 [00:06<00:05,  1.87it/s]\u001B[A\n",
      "Feature Extraction:  50%|█████     | 10/20 [00:06<00:04,  2.07it/s]\u001B[A\n",
      "Feature Extraction:  55%|█████▌    | 11/20 [00:06<00:03,  2.42it/s]\u001B[A\n",
      "Feature Extraction:  65%|██████▌   | 13/20 [00:07<00:03,  2.22it/s]\u001B[A\n",
      "Feature Extraction:  75%|███████▌  | 15/20 [00:07<00:01,  2.77it/s]\u001B[A\n",
      "Feature Extraction:  85%|████████▌ | 17/20 [00:08<00:01,  2.49it/s]\u001B[A\n",
      "Feature Extraction:  90%|█████████ | 18/20 [00:09<00:00,  2.79it/s]\u001B[A\n",
      "Feature Extraction:  95%|█████████▌| 19/20 [00:09<00:00,  3.14it/s]\u001B[A\n",
      "Feature Extraction: 100%|██████████| 20/20 [00:09<00:00,  2.12it/s]\u001B[A\n",
      "正在抽取P1130-MeasuredData_Flow_Pump_Recycle_Raw:  98%|█████████▊| 392/401 [03:17<00:52,  5.79s/it]\n",
      "Feature Extraction:   0%|          | 0/20 [00:00<?, ?it/s]\u001B[A\n",
      "Feature Extraction:   5%|▌         | 1/20 [00:05<01:36,  5.07s/it]\u001B[A\n",
      "Feature Extraction:  15%|█▌        | 3/20 [00:05<00:23,  1.35s/it]\u001B[A\n",
      "Feature Extraction:  25%|██▌       | 5/20 [00:07<00:20,  1.34s/it]\u001B[A\n",
      "Feature Extraction:  35%|███▌      | 7/20 [00:07<00:10,  1.24it/s]\u001B[A\n",
      "Feature Extraction:  45%|████▌     | 9/20 [00:10<00:10,  1.02it/s]\u001B[A\n",
      "Feature Extraction:  50%|█████     | 10/20 [00:10<00:08,  1.25it/s]\u001B[A\n",
      "Feature Extraction:  60%|██████    | 12/20 [00:10<00:04,  1.92it/s]\u001B[A\n",
      "Feature Extraction:  65%|██████▌   | 13/20 [00:12<00:05,  1.21it/s]\u001B[A\n",
      "Feature Extraction:  70%|███████   | 14/20 [00:13<00:04,  1.32it/s]\u001B[A\n",
      "Feature Extraction:  75%|███████▌  | 15/20 [00:13<00:03,  1.54it/s]\u001B[A\n",
      "Feature Extraction:  85%|████████▌ | 17/20 [00:15<00:02,  1.28it/s]\u001B[A\n",
      "Feature Extraction:  90%|█████████ | 18/20 [00:16<00:01,  1.40it/s]\u001B[A\n",
      "Feature Extraction: 100%|██████████| 20/20 [00:16<00:00,  1.23it/s]\u001B[A\n",
      "正在抽取P1130-MeasuredData_Pressure_Clamping_Raw:  98%|█████████▊| 393/401 [03:35<01:03,  7.93s/it]\n",
      "Feature Extraction:   0%|          | 0/20 [00:00<?, ?it/s]\u001B[A\n",
      "Feature Extraction:   5%|▌         | 1/20 [00:05<01:36,  5.06s/it]\u001B[A\n",
      "Feature Extraction:  10%|█         | 2/20 [00:05<00:38,  2.14s/it]\u001B[A\n",
      "Feature Extraction:  20%|██        | 4/20 [00:05<00:13,  1.19it/s]\u001B[A\n",
      "Feature Extraction:  30%|███       | 6/20 [00:07<00:14,  1.03s/it]\u001B[A\n",
      "Feature Extraction:  35%|███▌      | 7/20 [00:07<00:10,  1.25it/s]\u001B[A\n",
      "Feature Extraction:  45%|████▌     | 9/20 [00:10<00:10,  1.05it/s]\u001B[A\n",
      "Feature Extraction:  55%|█████▌    | 11/20 [00:10<00:05,  1.54it/s]\u001B[A\n",
      "Feature Extraction:  65%|██████▌   | 13/20 [00:12<00:04,  1.41it/s]\u001B[A\n",
      "Feature Extraction:  70%|███████   | 14/20 [00:12<00:04,  1.40it/s]\u001B[A\n",
      "Feature Extraction:  75%|███████▌  | 15/20 [00:13<00:03,  1.66it/s]\u001B[A\n",
      "Feature Extraction:  80%|████████  | 16/20 [00:13<00:01,  2.03it/s]\u001B[A\n",
      "Feature Extraction:  85%|████████▌ | 17/20 [00:14<00:02,  1.31it/s]\u001B[A\n",
      "Feature Extraction:  90%|█████████ | 18/20 [00:15<00:01,  1.36it/s]\u001B[A\n",
      "Feature Extraction:  95%|█████████▌| 19/20 [00:15<00:00,  1.69it/s]\u001B[A\n",
      "Feature Extraction: 100%|██████████| 20/20 [00:15<00:00,  1.27it/s]\u001B[A\n",
      "正在抽取P1130-MeasuredData_Pressure_Line_Input_Raw:  98%|█████████▊| 394/401 [03:53<01:09,  9.86s/it]\n",
      "Feature Extraction:   0%|          | 0/20 [00:00<?, ?it/s]\u001B[A\n",
      "Feature Extraction:   5%|▌         | 1/20 [00:04<01:21,  4.31s/it]\u001B[A\n",
      "Feature Extraction:  10%|█         | 2/20 [00:04<00:33,  1.84s/it]\u001B[A\n",
      "Feature Extraction:  20%|██        | 4/20 [00:04<00:11,  1.39it/s]\u001B[A\n",
      "Feature Extraction:  30%|███       | 6/20 [00:06<00:12,  1.14it/s]\u001B[A\n",
      "Feature Extraction:  40%|████      | 8/20 [00:06<00:06,  1.78it/s]\u001B[A\n",
      "Feature Extraction:  45%|████▌     | 9/20 [00:08<00:09,  1.13it/s]\u001B[A\n",
      "Feature Extraction:  50%|█████     | 10/20 [00:08<00:06,  1.43it/s]\u001B[A\n",
      "Feature Extraction:  60%|██████    | 12/20 [00:09<00:03,  2.29it/s]\u001B[A\n",
      "Feature Extraction:  70%|███████   | 14/20 [00:11<00:03,  1.54it/s]\u001B[A\n",
      "Feature Extraction:  75%|███████▌  | 15/20 [00:11<00:02,  1.77it/s]\u001B[A\n",
      "Feature Extraction:  85%|████████▌ | 17/20 [00:12<00:01,  1.52it/s]\u001B[A\n",
      "Feature Extraction:  90%|█████████ | 18/20 [00:13<00:01,  1.71it/s]\u001B[A\n",
      "Feature Extraction: 100%|██████████| 20/20 [00:13<00:00,  1.47it/s]\u001B[A\n",
      "正在抽取P1130-MeasuredData_Temperature_Pipe_Raw:  99%|█████████▊| 395/401 [04:09<01:06, 11.12s/it]   \n",
      "Feature Extraction:   0%|          | 0/20 [00:00<?, ?it/s]\u001B[A\n",
      "Feature Extraction:   5%|▌         | 1/20 [00:04<01:17,  4.08s/it]\u001B[A\n",
      "Feature Extraction:  15%|█▌        | 3/20 [00:04<00:18,  1.11s/it]\u001B[A\n",
      "Feature Extraction:  25%|██▌       | 5/20 [00:05<00:14,  1.03it/s]\u001B[A\n",
      "Feature Extraction:  35%|███▌      | 7/20 [00:06<00:07,  1.69it/s]\u001B[A\n",
      "Feature Extraction:  40%|████      | 8/20 [00:06<00:05,  2.08it/s]\u001B[A\n",
      "Feature Extraction:  45%|████▌     | 9/20 [00:07<00:08,  1.34it/s]\u001B[A\n",
      "Feature Extraction:  55%|█████▌    | 11/20 [00:07<00:04,  2.15it/s]\u001B[A\n",
      "Feature Extraction:  65%|██████▌   | 13/20 [00:09<00:03,  1.78it/s]\u001B[A\n",
      "Feature Extraction:  70%|███████   | 14/20 [00:09<00:03,  1.94it/s]\u001B[A\n",
      "Feature Extraction:  75%|███████▌  | 15/20 [00:09<00:02,  2.26it/s]\u001B[A\n",
      "Feature Extraction:  85%|████████▌ | 17/20 [00:11<00:01,  1.90it/s]\u001B[A\n",
      "Feature Extraction:  90%|█████████ | 18/20 [00:11<00:00,  2.06it/s]\u001B[A\n",
      "Feature Extraction: 100%|██████████| 20/20 [00:11<00:00,  1.70it/s]\u001B[A\n",
      "正在抽取P1130-MeasuredData_Time:  99%|█████████▉| 396/401 [04:22<00:58, 11.74s/it]                \n",
      "Feature Extraction:   0%|          | 0/20 [00:00<?, ?it/s]\u001B[A\n",
      "Feature Extraction:   5%|▌         | 1/20 [00:03<01:11,  3.75s/it]\u001B[A\n",
      "Feature Extraction:  20%|██        | 4/20 [00:03<00:12,  1.33it/s]\u001B[A\n",
      "Feature Extraction:  30%|███       | 6/20 [00:05<00:09,  1.48it/s]\u001B[A\n",
      "Feature Extraction:  40%|████      | 8/20 [00:05<00:05,  2.22it/s]\u001B[A\n",
      "Feature Extraction:  45%|████▌     | 9/20 [00:06<00:06,  1.75it/s]\u001B[A\n",
      "Feature Extraction:  55%|█████▌    | 11/20 [00:06<00:03,  2.58it/s]\u001B[A\n",
      "Feature Extraction:  65%|██████▌   | 13/20 [00:07<00:03,  2.31it/s]\u001B[A\n",
      "Feature Extraction:  70%|███████   | 14/20 [00:07<00:02,  2.68it/s]\u001B[A\n",
      "Feature Extraction:  75%|███████▌  | 15/20 [00:07<00:01,  3.00it/s]\u001B[A\n",
      "Feature Extraction:  85%|████████▌ | 17/20 [00:08<00:01,  2.56it/s]\u001B[A\n",
      "Feature Extraction:  90%|█████████ | 18/20 [00:08<00:00,  3.03it/s]\u001B[A\n",
      "Feature Extraction: 100%|██████████| 20/20 [00:09<00:00,  2.20it/s]\u001B[A\n",
      "正在抽取P1130-Report_P1130_Flow_Axis_LUB:  99%|█████████▉| 397/401 [04:33<00:46, 11.52s/it]\n",
      "Feature Extraction:   0%|          | 0/20 [00:00<?, ?it/s]\u001B[A\n",
      "Feature Extraction:   5%|▌         | 1/20 [00:03<01:08,  3.58s/it]\u001B[A\n",
      "Feature Extraction:  20%|██        | 4/20 [00:03<00:11,  1.39it/s]\u001B[A\n",
      "Feature Extraction:  30%|███       | 6/20 [00:04<00:09,  1.54it/s]\u001B[A\n",
      "Feature Extraction:  40%|████      | 8/20 [00:04<00:05,  2.36it/s]\u001B[A\n",
      "Feature Extraction:  50%|█████     | 10/20 [00:06<00:04,  2.12it/s]\u001B[A\n",
      "Feature Extraction:  55%|█████▌    | 11/20 [00:06<00:03,  2.49it/s]\u001B[A\n",
      "Feature Extraction:  65%|██████▌   | 13/20 [00:07<00:03,  2.25it/s]\u001B[A\n",
      "Feature Extraction:  75%|███████▌  | 15/20 [00:07<00:01,  3.03it/s]\u001B[A\n",
      "Feature Extraction:  80%|████████  | 16/20 [00:07<00:01,  3.47it/s]\u001B[A\n",
      "Feature Extraction:  85%|████████▌ | 17/20 [00:08<00:01,  2.31it/s]\u001B[A\n",
      "Feature Extraction: 100%|██████████| 20/20 [00:08<00:00,  2.28it/s]\u001B[A\n",
      "正在抽取P1130-Report_P1130_Flow_Clutch_LUB:  99%|█████████▉| 398/401 [04:44<00:33, 11.27s/it]\n",
      "Feature Extraction:   0%|          | 0/20 [00:00<?, ?it/s]\u001B[A\n",
      "Feature Extraction:   5%|▌         | 1/20 [00:03<01:09,  3.63s/it]\u001B[A\n",
      "Feature Extraction:  20%|██        | 4/20 [00:03<00:11,  1.39it/s]\u001B[A\n",
      "Feature Extraction:  30%|███       | 6/20 [00:04<00:09,  1.49it/s]\u001B[A\n",
      "Feature Extraction:  40%|████      | 8/20 [00:05<00:05,  2.30it/s]\u001B[A\n",
      "Feature Extraction:  50%|█████     | 10/20 [00:06<00:04,  2.04it/s]\u001B[A\n",
      "Feature Extraction:  60%|██████    | 12/20 [00:06<00:02,  2.86it/s]\u001B[A\n",
      "Feature Extraction:  70%|███████   | 14/20 [00:07<00:02,  2.42it/s]\u001B[A\n",
      "Feature Extraction:  75%|███████▌  | 15/20 [00:07<00:01,  2.59it/s]\u001B[A\n",
      "Feature Extraction:  85%|████████▌ | 17/20 [00:08<00:01,  2.37it/s]\u001B[A\n",
      "Feature Extraction:  95%|█████████▌| 19/20 [00:08<00:00,  3.29it/s]\u001B[A\n",
      "Feature Extraction: 100%|██████████| 20/20 [00:09<00:00,  2.21it/s]\u001B[A\n",
      "正在抽取P1130-Report_P1130_Flow_Input: 100%|█████████▉| 399/401 [04:55<00:22, 11.14s/it]     \n",
      "Feature Extraction:   0%|          | 0/20 [00:00<?, ?it/s]\u001B[A\n",
      "Feature Extraction:   5%|▌         | 1/20 [00:03<01:06,  3.51s/it]\u001B[A\n",
      "Feature Extraction:  10%|█         | 2/20 [00:03<00:27,  1.52s/it]\u001B[A\n",
      "Feature Extraction:  25%|██▌       | 5/20 [00:04<00:10,  1.46it/s]\u001B[A\n",
      "Feature Extraction:  35%|███▌      | 7/20 [00:04<00:05,  2.20it/s]\u001B[A\n",
      "Feature Extraction:  45%|████▌     | 9/20 [00:05<00:05,  2.14it/s]\u001B[A\n",
      "Feature Extraction:  50%|█████     | 10/20 [00:06<00:03,  2.54it/s]\u001B[A\n",
      "Feature Extraction:  55%|█████▌    | 11/20 [00:06<00:03,  2.96it/s]\u001B[A\n",
      "Feature Extraction:  65%|██████▌   | 13/20 [00:07<00:02,  2.58it/s]\u001B[A\n",
      "Feature Extraction:  75%|███████▌  | 15/20 [00:07<00:01,  3.24it/s]\u001B[A\n",
      "Feature Extraction:  80%|████████  | 16/20 [00:07<00:01,  3.74it/s]\u001B[A\n",
      "Feature Extraction:  85%|████████▌ | 17/20 [00:08<00:01,  2.65it/s]\u001B[A\n",
      "Feature Extraction: 100%|██████████| 20/20 [00:08<00:00,  2.30it/s]\u001B[A\n",
      "正在抽取P1130-Report_P1130_Flow_Pump_Recycle: 100%|█████████▉| 400/401 [05:05<00:10, 10.95s/it]\n",
      "Feature Extraction:   0%|          | 0/20 [00:00<?, ?it/s]\u001B[A\n",
      "Feature Extraction:   5%|▌         | 1/20 [00:04<01:18,  4.11s/it]\u001B[A\n",
      "Feature Extraction:  20%|██        | 4/20 [00:04<00:12,  1.24it/s]\u001B[A\n",
      "Feature Extraction:  30%|███       | 6/20 [00:05<00:11,  1.22it/s]\u001B[A\n",
      "Feature Extraction:  40%|████      | 8/20 [00:06<00:06,  1.90it/s]\u001B[A\n",
      "Feature Extraction:  50%|█████     | 10/20 [00:07<00:06,  1.58it/s]\u001B[A\n",
      "Feature Extraction:  55%|█████▌    | 11/20 [00:07<00:04,  1.87it/s]\u001B[A\n",
      "Feature Extraction:  65%|██████▌   | 13/20 [00:09<00:04,  1.74it/s]\u001B[A\n",
      "Feature Extraction:  70%|███████   | 14/20 [00:09<00:03,  2.00it/s]\u001B[A\n",
      "Feature Extraction:  75%|███████▌  | 15/20 [00:09<00:02,  2.21it/s]\u001B[A\n",
      "Feature Extraction:  85%|████████▌ | 17/20 [00:10<00:01,  1.90it/s]\u001B[A\n",
      "Feature Extraction:  90%|█████████ | 18/20 [00:11<00:00,  2.22it/s]\u001B[A\n",
      "Feature Extraction: 100%|██████████| 20/20 [00:11<00:00,  1.76it/s]\u001B[A\n",
      "正在抽取P1130-Report_P1130_Time: 100%|██████████| 401/401 [05:18<00:00,  1.26it/s]             \n"
     ]
    }
   ],
   "source": [
    "feature_extraction(n_jobs_for_extra=4)"
   ],
   "metadata": {
    "collapsed": false
   }
  },
  {
   "cell_type": "code",
   "execution_count": null,
   "outputs": [],
   "source": [],
   "metadata": {
    "collapsed": false
   }
  },
  {
   "cell_type": "code",
   "execution_count": 1,
   "outputs": [],
   "source": [
    "from utils.init_train_label import merge_label\n",
    "from utils.get_training_data import get_training_data\n",
    "from utils.config import cfg\n",
    "import os\n",
    "os.chdir(r'D:\\比赛\\template_with_training\\baseline')"
   ],
   "metadata": {
    "collapsed": false
   }
  },
  {
   "cell_type": "code",
   "execution_count": 2,
   "outputs": [],
   "source": [
    "x,y = get_training_data(cfg.train_feature_path)"
   ],
   "metadata": {
    "collapsed": false
   }
  },
  {
   "cell_type": "code",
   "execution_count": 12,
   "outputs": [
    {
     "data": {
      "text/plain": "                                      P1130-MeasuredData_Flow_Input_Raw__variance_larger_than_standard_deviation  \\\nname                                                                                                               \n00030455043d341fb3712bf3d79cd800.csv                                                0.0                            \n000dbac844493238aca63e33b28a0113.csv                                                0.0                            \n003cee492ec03e1eabe946144bef926d.csv                                                0.0                            \n0062ff897be930cc8c3a1362a9a18268.csv                                                0.0                            \n0070fb9a8963368f9174d269c052b6b3.csv                                                0.0                            \n\n                                      P1130-MeasuredData_Flow_Input_Raw__has_duplicate_max  \\\nname                                                                                         \n00030455043d341fb3712bf3d79cd800.csv                                                1.0      \n000dbac844493238aca63e33b28a0113.csv                                                1.0      \n003cee492ec03e1eabe946144bef926d.csv                                                1.0      \n0062ff897be930cc8c3a1362a9a18268.csv                                                1.0      \n0070fb9a8963368f9174d269c052b6b3.csv                                                1.0      \n\n                                      P1130-MeasuredData_Flow_Input_Raw__has_duplicate_min  \\\nname                                                                                         \n00030455043d341fb3712bf3d79cd800.csv                                                1.0      \n000dbac844493238aca63e33b28a0113.csv                                                1.0      \n003cee492ec03e1eabe946144bef926d.csv                                                1.0      \n0062ff897be930cc8c3a1362a9a18268.csv                                                1.0      \n0070fb9a8963368f9174d269c052b6b3.csv                                                1.0      \n\n                                      P1130-MeasuredData_Flow_Input_Raw__has_duplicate  \\\nname                                                                                     \n00030455043d341fb3712bf3d79cd800.csv                                               1.0   \n000dbac844493238aca63e33b28a0113.csv                                               1.0   \n003cee492ec03e1eabe946144bef926d.csv                                               1.0   \n0062ff897be930cc8c3a1362a9a18268.csv                                               1.0   \n0070fb9a8963368f9174d269c052b6b3.csv                                               1.0   \n\n                                      P1130-MeasuredData_Flow_Input_Raw__sum_values  \\\nname                                                                                  \n00030455043d341fb3712bf3d79cd800.csv                                   33592.756425   \n000dbac844493238aca63e33b28a0113.csv                                   31369.300159   \n003cee492ec03e1eabe946144bef926d.csv                                   32198.262201   \n0062ff897be930cc8c3a1362a9a18268.csv                                   33577.501737   \n0070fb9a8963368f9174d269c052b6b3.csv                                   31343.999702   \n\n                                      P1130-MeasuredData_Flow_Input_Raw__abs_energy  \\\nname                                                                                  \n00030455043d341fb3712bf3d79cd800.csv                                  376280.117512   \n000dbac844493238aca63e33b28a0113.csv                                  351561.432687   \n003cee492ec03e1eabe946144bef926d.csv                                  370342.841375   \n0062ff897be930cc8c3a1362a9a18268.csv                                  375914.696967   \n0070fb9a8963368f9174d269c052b6b3.csv                                  350980.039078   \n\n                                      P1130-MeasuredData_Flow_Input_Raw__mean_abs_change  \\\nname                                                                                       \n00030455043d341fb3712bf3d79cd800.csv                                           0.008684    \n000dbac844493238aca63e33b28a0113.csv                                           0.009106    \n003cee492ec03e1eabe946144bef926d.csv                                           0.006580    \n0062ff897be930cc8c3a1362a9a18268.csv                                           0.008871    \n0070fb9a8963368f9174d269c052b6b3.csv                                           0.009371    \n\n                                      P1130-MeasuredData_Flow_Input_Raw__mean_change  \\\nname                                                                                   \n00030455043d341fb3712bf3d79cd800.csv                                        0.000000   \n000dbac844493238aca63e33b28a0113.csv                                        0.000066   \n003cee492ec03e1eabe946144bef926d.csv                                        0.000066   \n0062ff897be930cc8c3a1362a9a18268.csv                                        0.000062   \n0070fb9a8963368f9174d269c052b6b3.csv                                        0.000066   \n\n                                      P1130-MeasuredData_Flow_Input_Raw__mean_second_derivative_central  \\\nname                                                                                                      \n00030455043d341fb3712bf3d79cd800.csv                                                0.0                   \n000dbac844493238aca63e33b28a0113.csv                                                0.0                   \n003cee492ec03e1eabe946144bef926d.csv                                                0.0                   \n0062ff897be930cc8c3a1362a9a18268.csv                                                0.0                   \n0070fb9a8963368f9174d269c052b6b3.csv                                                0.0                   \n\n                                      P1130-MeasuredData_Flow_Input_Raw__median  \\\nname                                                                              \n00030455043d341fb3712bf3d79cd800.csv                                  11.162859   \n000dbac844493238aca63e33b28a0113.csv                                  11.162859   \n003cee492ec03e1eabe946144bef926d.csv                                  11.534925   \n0062ff897be930cc8c3a1362a9a18268.csv                                  11.162859   \n0070fb9a8963368f9174d269c052b6b3.csv                                  11.162859   \n\n                                      ...  \\\nname                                  ...   \n00030455043d341fb3712bf3d79cd800.csv  ...   \n000dbac844493238aca63e33b28a0113.csv  ...   \n003cee492ec03e1eabe946144bef926d.csv  ...   \n0062ff897be930cc8c3a1362a9a18268.csv  ...   \n0070fb9a8963368f9174d269c052b6b3.csv  ...   \n\n                                      P1020-MeasuredData_Temperature_Pipe_Raw__ratio_beyond_r_sigma__r_10  \\\nname                                                                                                        \n00030455043d341fb3712bf3d79cd800.csv                                           0.000162                     \n000dbac844493238aca63e33b28a0113.csv                                           0.000161                     \n003cee492ec03e1eabe946144bef926d.csv                                           0.000000                     \n0062ff897be930cc8c3a1362a9a18268.csv                                           0.000000                     \n0070fb9a8963368f9174d269c052b6b3.csv                                           0.000000                     \n\n                                      P1020-MeasuredData_Temperature_Pipe_Raw__count_above__t_0  \\\nname                                                                                              \n00030455043d341fb3712bf3d79cd800.csv                                                1.0           \n000dbac844493238aca63e33b28a0113.csv                                                1.0           \n003cee492ec03e1eabe946144bef926d.csv                                                1.0           \n0062ff897be930cc8c3a1362a9a18268.csv                                                1.0           \n0070fb9a8963368f9174d269c052b6b3.csv                                                1.0           \n\n                                      P1020-MeasuredData_Temperature_Pipe_Raw__count_below__t_0  \\\nname                                                                                              \n00030455043d341fb3712bf3d79cd800.csv                                                0.0           \n000dbac844493238aca63e33b28a0113.csv                                                0.0           \n003cee492ec03e1eabe946144bef926d.csv                                                0.0           \n0062ff897be930cc8c3a1362a9a18268.csv                                                0.0           \n0070fb9a8963368f9174d269c052b6b3.csv                                                0.0           \n\n                                      P1020-MeasuredData_Temperature_Pipe_Raw__fourier_entropy__bins_2  \\\nname                                                                                                     \n00030455043d341fb3712bf3d79cd800.csv                                           0.045395                  \n000dbac844493238aca63e33b28a0113.csv                                           0.079983                  \n003cee492ec03e1eabe946144bef926d.csv                                           0.079983                  \n0062ff897be930cc8c3a1362a9a18268.csv                                           0.045395                  \n0070fb9a8963368f9174d269c052b6b3.csv                                           0.079983                  \n\n                                      P1020-MeasuredData_Temperature_Pipe_Raw__fourier_entropy__bins_3  \\\nname                                                                                                     \n00030455043d341fb3712bf3d79cd800.csv                                           0.045395                  \n000dbac844493238aca63e33b28a0113.csv                                           0.090729                  \n003cee492ec03e1eabe946144bef926d.csv                                           0.079983                  \n0062ff897be930cc8c3a1362a9a18268.csv                                           0.090729                  \n0070fb9a8963368f9174d269c052b6b3.csv                                           0.079983                  \n\n                                      P1020-MeasuredData_Temperature_Pipe_Raw__fourier_entropy__bins_5  \\\nname                                                                                                     \n00030455043d341fb3712bf3d79cd800.csv                                           0.125256                  \n000dbac844493238aca63e33b28a0113.csv                                           0.090729                  \n003cee492ec03e1eabe946144bef926d.csv                                           0.079983                  \n0062ff897be930cc8c3a1362a9a18268.csv                                           0.090729                  \n0070fb9a8963368f9174d269c052b6b3.csv                                           0.079983                  \n\n                                      P1020-MeasuredData_Temperature_Pipe_Raw__fourier_entropy__bins_10  \\\nname                                                                                                      \n00030455043d341fb3712bf3d79cd800.csv                                           0.136002                   \n000dbac844493238aca63e33b28a0113.csv                                           0.136002                   \n003cee492ec03e1eabe946144bef926d.csv                                           0.090729                   \n0062ff897be930cc8c3a1362a9a18268.csv                                           0.136002                   \n0070fb9a8963368f9174d269c052b6b3.csv                                           0.079983                   \n\n                                      P1020-MeasuredData_Temperature_Pipe_Raw__fourier_entropy__bins_100  \\\nname                                                                                                       \n00030455043d341fb3712bf3d79cd800.csv                                           1.116025                    \n000dbac844493238aca63e33b28a0113.csv                                           0.985573                    \n003cee492ec03e1eabe946144bef926d.csv                                           1.081411                    \n0062ff897be930cc8c3a1362a9a18268.csv                                           1.095562                    \n0070fb9a8963368f9174d269c052b6b3.csv                                           1.265440                    \n\n                                      P1020-MeasuredData_Temperature_Pipe_Raw__query_similarity_count__query_None__threshold_0.0  \\\nname                                                                                                                               \n00030455043d341fb3712bf3d79cd800.csv                                                0.0                                            \n000dbac844493238aca63e33b28a0113.csv                                                0.0                                            \n003cee492ec03e1eabe946144bef926d.csv                                                0.0                                            \n0062ff897be930cc8c3a1362a9a18268.csv                                                0.0                                            \n0070fb9a8963368f9174d269c052b6b3.csv                                                0.0                                            \n\n                                      P1020-MeasuredData_Temperature_Pipe_Raw__mean_n_absolute_max__number_of_maxima_7  \nname                                                                                                                    \n00030455043d341fb3712bf3d79cd800.csv                                          56.216602                                 \n000dbac844493238aca63e33b28a0113.csv                                          56.255247                                 \n003cee492ec03e1eabe946144bef926d.csv                                          49.751944                                 \n0062ff897be930cc8c3a1362a9a18268.csv                                          56.084567                                 \n0070fb9a8963368f9174d269c052b6b3.csv                                          55.788293                                 \n\n[5 rows x 31600 columns]",
      "text/html": "<div>\n<style scoped>\n    .dataframe tbody tr th:only-of-type {\n        vertical-align: middle;\n    }\n\n    .dataframe tbody tr th {\n        vertical-align: top;\n    }\n\n    .dataframe thead th {\n        text-align: right;\n    }\n</style>\n<table border=\"1\" class=\"dataframe\">\n  <thead>\n    <tr style=\"text-align: right;\">\n      <th></th>\n      <th>P1130-MeasuredData_Flow_Input_Raw__variance_larger_than_standard_deviation</th>\n      <th>P1130-MeasuredData_Flow_Input_Raw__has_duplicate_max</th>\n      <th>P1130-MeasuredData_Flow_Input_Raw__has_duplicate_min</th>\n      <th>P1130-MeasuredData_Flow_Input_Raw__has_duplicate</th>\n      <th>P1130-MeasuredData_Flow_Input_Raw__sum_values</th>\n      <th>P1130-MeasuredData_Flow_Input_Raw__abs_energy</th>\n      <th>P1130-MeasuredData_Flow_Input_Raw__mean_abs_change</th>\n      <th>P1130-MeasuredData_Flow_Input_Raw__mean_change</th>\n      <th>P1130-MeasuredData_Flow_Input_Raw__mean_second_derivative_central</th>\n      <th>P1130-MeasuredData_Flow_Input_Raw__median</th>\n      <th>...</th>\n      <th>P1020-MeasuredData_Temperature_Pipe_Raw__ratio_beyond_r_sigma__r_10</th>\n      <th>P1020-MeasuredData_Temperature_Pipe_Raw__count_above__t_0</th>\n      <th>P1020-MeasuredData_Temperature_Pipe_Raw__count_below__t_0</th>\n      <th>P1020-MeasuredData_Temperature_Pipe_Raw__fourier_entropy__bins_2</th>\n      <th>P1020-MeasuredData_Temperature_Pipe_Raw__fourier_entropy__bins_3</th>\n      <th>P1020-MeasuredData_Temperature_Pipe_Raw__fourier_entropy__bins_5</th>\n      <th>P1020-MeasuredData_Temperature_Pipe_Raw__fourier_entropy__bins_10</th>\n      <th>P1020-MeasuredData_Temperature_Pipe_Raw__fourier_entropy__bins_100</th>\n      <th>P1020-MeasuredData_Temperature_Pipe_Raw__query_similarity_count__query_None__threshold_0.0</th>\n      <th>P1020-MeasuredData_Temperature_Pipe_Raw__mean_n_absolute_max__number_of_maxima_7</th>\n    </tr>\n    <tr>\n      <th>name</th>\n      <th></th>\n      <th></th>\n      <th></th>\n      <th></th>\n      <th></th>\n      <th></th>\n      <th></th>\n      <th></th>\n      <th></th>\n      <th></th>\n      <th></th>\n      <th></th>\n      <th></th>\n      <th></th>\n      <th></th>\n      <th></th>\n      <th></th>\n      <th></th>\n      <th></th>\n      <th></th>\n      <th></th>\n    </tr>\n  </thead>\n  <tbody>\n    <tr>\n      <th>00030455043d341fb3712bf3d79cd800.csv</th>\n      <td>0.0</td>\n      <td>1.0</td>\n      <td>1.0</td>\n      <td>1.0</td>\n      <td>33592.756425</td>\n      <td>376280.117512</td>\n      <td>0.008684</td>\n      <td>0.000000</td>\n      <td>0.0</td>\n      <td>11.162859</td>\n      <td>...</td>\n      <td>0.000162</td>\n      <td>1.0</td>\n      <td>0.0</td>\n      <td>0.045395</td>\n      <td>0.045395</td>\n      <td>0.125256</td>\n      <td>0.136002</td>\n      <td>1.116025</td>\n      <td>0.0</td>\n      <td>56.216602</td>\n    </tr>\n    <tr>\n      <th>000dbac844493238aca63e33b28a0113.csv</th>\n      <td>0.0</td>\n      <td>1.0</td>\n      <td>1.0</td>\n      <td>1.0</td>\n      <td>31369.300159</td>\n      <td>351561.432687</td>\n      <td>0.009106</td>\n      <td>0.000066</td>\n      <td>0.0</td>\n      <td>11.162859</td>\n      <td>...</td>\n      <td>0.000161</td>\n      <td>1.0</td>\n      <td>0.0</td>\n      <td>0.079983</td>\n      <td>0.090729</td>\n      <td>0.090729</td>\n      <td>0.136002</td>\n      <td>0.985573</td>\n      <td>0.0</td>\n      <td>56.255247</td>\n    </tr>\n    <tr>\n      <th>003cee492ec03e1eabe946144bef926d.csv</th>\n      <td>0.0</td>\n      <td>1.0</td>\n      <td>1.0</td>\n      <td>1.0</td>\n      <td>32198.262201</td>\n      <td>370342.841375</td>\n      <td>0.006580</td>\n      <td>0.000066</td>\n      <td>0.0</td>\n      <td>11.534925</td>\n      <td>...</td>\n      <td>0.000000</td>\n      <td>1.0</td>\n      <td>0.0</td>\n      <td>0.079983</td>\n      <td>0.079983</td>\n      <td>0.079983</td>\n      <td>0.090729</td>\n      <td>1.081411</td>\n      <td>0.0</td>\n      <td>49.751944</td>\n    </tr>\n    <tr>\n      <th>0062ff897be930cc8c3a1362a9a18268.csv</th>\n      <td>0.0</td>\n      <td>1.0</td>\n      <td>1.0</td>\n      <td>1.0</td>\n      <td>33577.501737</td>\n      <td>375914.696967</td>\n      <td>0.008871</td>\n      <td>0.000062</td>\n      <td>0.0</td>\n      <td>11.162859</td>\n      <td>...</td>\n      <td>0.000000</td>\n      <td>1.0</td>\n      <td>0.0</td>\n      <td>0.045395</td>\n      <td>0.090729</td>\n      <td>0.090729</td>\n      <td>0.136002</td>\n      <td>1.095562</td>\n      <td>0.0</td>\n      <td>56.084567</td>\n    </tr>\n    <tr>\n      <th>0070fb9a8963368f9174d269c052b6b3.csv</th>\n      <td>0.0</td>\n      <td>1.0</td>\n      <td>1.0</td>\n      <td>1.0</td>\n      <td>31343.999702</td>\n      <td>350980.039078</td>\n      <td>0.009371</td>\n      <td>0.000066</td>\n      <td>0.0</td>\n      <td>11.162859</td>\n      <td>...</td>\n      <td>0.000000</td>\n      <td>1.0</td>\n      <td>0.0</td>\n      <td>0.079983</td>\n      <td>0.079983</td>\n      <td>0.079983</td>\n      <td>0.079983</td>\n      <td>1.265440</td>\n      <td>0.0</td>\n      <td>55.788293</td>\n    </tr>\n  </tbody>\n</table>\n<p>5 rows × 31600 columns</p>\n</div>"
     },
     "execution_count": 12,
     "metadata": {},
     "output_type": "execute_result"
    }
   ],
   "source": [
    "x.head()"
   ],
   "metadata": {
    "collapsed": false
   }
  },
  {
   "cell_type": "code",
   "execution_count": 6,
   "outputs": [
    {
     "data": {
      "text/plain": "name\n00030455043d341fb3712bf3d79cd800.csv                   0\n000dbac844493238aca63e33b28a0113.csv                   0\n003cee492ec03e1eabe946144bef926d.csv                   0\n0062ff897be930cc8c3a1362a9a18268.csv                   0\n0070fb9a8963368f9174d269c052b6b3.csv                   0\n                                                      ..\nTSA43005120C00NG310189~T05~20220731083242_NOK_1.csv    1\nTSA43005120C00NG310204~T05~20220731093318_NOK_1.csv    1\nTSA43005120C00NG310271~T05~20220731095241_NOK_1.csv    1\nTSA43005120C00NG310282~T05~20220731095523_NOK_1.csv    1\nTSA43005120C00NG310288~T05~20220731100309_NOK_1.csv    1\nName: y, Length: 1800, dtype: int64"
     },
     "execution_count": 6,
     "metadata": {},
     "output_type": "execute_result"
    }
   ],
   "source": [
    "y"
   ],
   "metadata": {
    "collapsed": false
   }
  },
  {
   "cell_type": "code",
   "execution_count": null,
   "outputs": [],
   "source": [],
   "metadata": {
    "collapsed": false
   }
  },
  {
   "cell_type": "code",
   "execution_count": null,
   "outputs": [],
   "source": [],
   "metadata": {
    "collapsed": false
   }
  },
  {
   "cell_type": "code",
   "execution_count": 16,
   "outputs": [],
   "source": [],
   "metadata": {
    "collapsed": false
   }
  },
  {
   "cell_type": "code",
   "execution_count": 1,
   "outputs": [],
   "source": [
    "from xgboost import XGBRegressor\n",
    "import pandas as pd\n",
    "from sklearn.preprocessing import LabelEncoder\n",
    "\n",
    "enc = LabelEncoder()\n",
    "\n",
    "def split_time(t: str):\n",
    "    h,m = t.split(':')\n",
    "    return int(h)*60 + int(m)\n",
    "\n",
    "\n",
    "path = r'D:\\比赛2\\GAIDC_preliminary_A\\train.csv'\n",
    "df = pd.read_csv(path)\n",
    "df.set_index('id',inplace=True,drop=True)\n",
    "df.drop('date_id',axis=1,inplace=True)\n",
    "df['time'] = df['time'].apply(split_time)\n",
    "enc.fit(df['transformers'])\n",
    "df['transformers'] = enc.transform(df['transformers'])"
   ],
   "metadata": {
    "collapsed": false
   }
  },
  {
   "cell_type": "code",
   "execution_count": 2,
   "outputs": [
    {
     "data": {
      "text/plain": "                 transformers  month  is_weekend  time       L1       L2  \\\nid                                                                         \nM1_D00003_00_00             0      4           0     0  16.4772  11.6558   \nM1_D00003_00_30             0      4           0    30  16.2091  11.8867   \nM1_D00003_01_00             0      4           0    60  15.9085  11.5495   \nM1_D00003_01_30             0      4           0    90  15.7744  11.3179   \nM1_D00003_02_00             0      4           0   120  15.6739  11.4603   \n...                       ...    ...         ...   ...      ...      ...   \nM2_D00720_21_30             1      1           0  1290  43.9366  46.8299   \nM2_D00720_22_00             1      1           0  1320  39.6642  42.7015   \nM2_D00720_22_30             1      1           0  1350  39.0777  42.2995   \nM2_D00720_23_00             1      1           0  1380  37.6118  41.4551   \nM2_D00720_23_30             1      1           0  1410  43.4759  44.9801   \n\n                     L3      L4      L5      L6        y  \nid                                                        \nM1_D00003_00_00  4.4320  6.4635  4.3713  1.1885   9.7434  \nM1_D00003_00_30  4.4020  6.4640  4.6197  1.1879   9.9550  \nM1_D00003_01_00  4.3407  6.5308  4.0870  1.1272  10.1302  \nM1_D00003_01_30  4.2491  6.0959  4.1756  1.0818  10.5524  \nM1_D00003_02_00  4.3714  6.6315  4.2463  1.1573  10.3770  \n...                 ...     ...     ...     ...      ...  \nM2_D00720_21_30 -2.7134  0.0004  0.0002  0.0005   2.6271  \nM2_D00720_22_00 -2.6810  0.0004 -1.6484  0.0004   2.6273  \nM2_D00720_22_30 -2.8787  0.0004 -0.7773  0.0001   2.8468  \nM2_D00720_23_00 -2.8789  0.0004  0.0000  0.0001   3.0666  \nM2_D00720_23_30 -1.4710  0.0004  0.0004  0.0004   3.0666  \n\n[38400 rows x 11 columns]",
      "text/html": "<div>\n<style scoped>\n    .dataframe tbody tr th:only-of-type {\n        vertical-align: middle;\n    }\n\n    .dataframe tbody tr th {\n        vertical-align: top;\n    }\n\n    .dataframe thead th {\n        text-align: right;\n    }\n</style>\n<table border=\"1\" class=\"dataframe\">\n  <thead>\n    <tr style=\"text-align: right;\">\n      <th></th>\n      <th>transformers</th>\n      <th>month</th>\n      <th>is_weekend</th>\n      <th>time</th>\n      <th>L1</th>\n      <th>L2</th>\n      <th>L3</th>\n      <th>L4</th>\n      <th>L5</th>\n      <th>L6</th>\n      <th>y</th>\n    </tr>\n    <tr>\n      <th>id</th>\n      <th></th>\n      <th></th>\n      <th></th>\n      <th></th>\n      <th></th>\n      <th></th>\n      <th></th>\n      <th></th>\n      <th></th>\n      <th></th>\n      <th></th>\n    </tr>\n  </thead>\n  <tbody>\n    <tr>\n      <th>M1_D00003_00_00</th>\n      <td>0</td>\n      <td>4</td>\n      <td>0</td>\n      <td>0</td>\n      <td>16.4772</td>\n      <td>11.6558</td>\n      <td>4.4320</td>\n      <td>6.4635</td>\n      <td>4.3713</td>\n      <td>1.1885</td>\n      <td>9.7434</td>\n    </tr>\n    <tr>\n      <th>M1_D00003_00_30</th>\n      <td>0</td>\n      <td>4</td>\n      <td>0</td>\n      <td>30</td>\n      <td>16.2091</td>\n      <td>11.8867</td>\n      <td>4.4020</td>\n      <td>6.4640</td>\n      <td>4.6197</td>\n      <td>1.1879</td>\n      <td>9.9550</td>\n    </tr>\n    <tr>\n      <th>M1_D00003_01_00</th>\n      <td>0</td>\n      <td>4</td>\n      <td>0</td>\n      <td>60</td>\n      <td>15.9085</td>\n      <td>11.5495</td>\n      <td>4.3407</td>\n      <td>6.5308</td>\n      <td>4.0870</td>\n      <td>1.1272</td>\n      <td>10.1302</td>\n    </tr>\n    <tr>\n      <th>M1_D00003_01_30</th>\n      <td>0</td>\n      <td>4</td>\n      <td>0</td>\n      <td>90</td>\n      <td>15.7744</td>\n      <td>11.3179</td>\n      <td>4.2491</td>\n      <td>6.0959</td>\n      <td>4.1756</td>\n      <td>1.0818</td>\n      <td>10.5524</td>\n    </tr>\n    <tr>\n      <th>M1_D00003_02_00</th>\n      <td>0</td>\n      <td>4</td>\n      <td>0</td>\n      <td>120</td>\n      <td>15.6739</td>\n      <td>11.4603</td>\n      <td>4.3714</td>\n      <td>6.6315</td>\n      <td>4.2463</td>\n      <td>1.1573</td>\n      <td>10.3770</td>\n    </tr>\n    <tr>\n      <th>...</th>\n      <td>...</td>\n      <td>...</td>\n      <td>...</td>\n      <td>...</td>\n      <td>...</td>\n      <td>...</td>\n      <td>...</td>\n      <td>...</td>\n      <td>...</td>\n      <td>...</td>\n      <td>...</td>\n    </tr>\n    <tr>\n      <th>M2_D00720_21_30</th>\n      <td>1</td>\n      <td>1</td>\n      <td>0</td>\n      <td>1290</td>\n      <td>43.9366</td>\n      <td>46.8299</td>\n      <td>-2.7134</td>\n      <td>0.0004</td>\n      <td>0.0002</td>\n      <td>0.0005</td>\n      <td>2.6271</td>\n    </tr>\n    <tr>\n      <th>M2_D00720_22_00</th>\n      <td>1</td>\n      <td>1</td>\n      <td>0</td>\n      <td>1320</td>\n      <td>39.6642</td>\n      <td>42.7015</td>\n      <td>-2.6810</td>\n      <td>0.0004</td>\n      <td>-1.6484</td>\n      <td>0.0004</td>\n      <td>2.6273</td>\n    </tr>\n    <tr>\n      <th>M2_D00720_22_30</th>\n      <td>1</td>\n      <td>1</td>\n      <td>0</td>\n      <td>1350</td>\n      <td>39.0777</td>\n      <td>42.2995</td>\n      <td>-2.8787</td>\n      <td>0.0004</td>\n      <td>-0.7773</td>\n      <td>0.0001</td>\n      <td>2.8468</td>\n    </tr>\n    <tr>\n      <th>M2_D00720_23_00</th>\n      <td>1</td>\n      <td>1</td>\n      <td>0</td>\n      <td>1380</td>\n      <td>37.6118</td>\n      <td>41.4551</td>\n      <td>-2.8789</td>\n      <td>0.0004</td>\n      <td>0.0000</td>\n      <td>0.0001</td>\n      <td>3.0666</td>\n    </tr>\n    <tr>\n      <th>M2_D00720_23_30</th>\n      <td>1</td>\n      <td>1</td>\n      <td>0</td>\n      <td>1410</td>\n      <td>43.4759</td>\n      <td>44.9801</td>\n      <td>-1.4710</td>\n      <td>0.0004</td>\n      <td>0.0004</td>\n      <td>0.0004</td>\n      <td>3.0666</td>\n    </tr>\n  </tbody>\n</table>\n<p>38400 rows × 11 columns</p>\n</div>"
     },
     "execution_count": 2,
     "metadata": {},
     "output_type": "execute_result"
    }
   ],
   "source": [
    "df"
   ],
   "metadata": {
    "collapsed": false
   }
  },
  {
   "cell_type": "code",
   "execution_count": 3,
   "outputs": [
    {
     "data": {
      "text/plain": "transformers      int32\nmonth             int64\nis_weekend        int64\ntime              int64\nL1              float64\nL2              float64\nL3              float64\nL4              float64\nL5              float64\nL6              float64\ny               float64\ndtype: object"
     },
     "execution_count": 3,
     "metadata": {},
     "output_type": "execute_result"
    }
   ],
   "source": [
    "df.dtypes"
   ],
   "metadata": {
    "collapsed": false
   }
  },
  {
   "cell_type": "code",
   "execution_count": 4,
   "outputs": [],
   "source": [
    "data = df.drop('y',axis=1)\n",
    "y = df['y']"
   ],
   "metadata": {
    "collapsed": false
   }
  },
  {
   "cell_type": "code",
   "execution_count": 5,
   "outputs": [
    {
     "data": {
      "text/plain": "XGBRegressor(base_score=None, booster=None, callbacks=None,\n             colsample_bylevel=None, colsample_bynode=None,\n             colsample_bytree=None, early_stopping_rounds=None,\n             enable_categorical=False, eval_metric=None, feature_types=None,\n             gamma=None, gpu_id=None, grow_policy=None, importance_type=None,\n             interaction_constraints=None, learning_rate=None, max_bin=None,\n             max_cat_threshold=None, max_cat_to_onehot=None,\n             max_delta_step=None, max_depth=None, max_leaves=None,\n             min_child_weight=None, missing=nan, monotone_constraints=None,\n             n_estimators=100, n_jobs=None, num_parallel_tree=None,\n             predictor=None, random_state=None, ...)",
      "text/html": "<style>#sk-container-id-1 {color: black;background-color: white;}#sk-container-id-1 pre{padding: 0;}#sk-container-id-1 div.sk-toggleable {background-color: white;}#sk-container-id-1 label.sk-toggleable__label {cursor: pointer;display: block;width: 100%;margin-bottom: 0;padding: 0.3em;box-sizing: border-box;text-align: center;}#sk-container-id-1 label.sk-toggleable__label-arrow:before {content: \"▸\";float: left;margin-right: 0.25em;color: #696969;}#sk-container-id-1 label.sk-toggleable__label-arrow:hover:before {color: black;}#sk-container-id-1 div.sk-estimator:hover label.sk-toggleable__label-arrow:before {color: black;}#sk-container-id-1 div.sk-toggleable__content {max-height: 0;max-width: 0;overflow: hidden;text-align: left;background-color: #f0f8ff;}#sk-container-id-1 div.sk-toggleable__content pre {margin: 0.2em;color: black;border-radius: 0.25em;background-color: #f0f8ff;}#sk-container-id-1 input.sk-toggleable__control:checked~div.sk-toggleable__content {max-height: 200px;max-width: 100%;overflow: auto;}#sk-container-id-1 input.sk-toggleable__control:checked~label.sk-toggleable__label-arrow:before {content: \"▾\";}#sk-container-id-1 div.sk-estimator input.sk-toggleable__control:checked~label.sk-toggleable__label {background-color: #d4ebff;}#sk-container-id-1 div.sk-label input.sk-toggleable__control:checked~label.sk-toggleable__label {background-color: #d4ebff;}#sk-container-id-1 input.sk-hidden--visually {border: 0;clip: rect(1px 1px 1px 1px);clip: rect(1px, 1px, 1px, 1px);height: 1px;margin: -1px;overflow: hidden;padding: 0;position: absolute;width: 1px;}#sk-container-id-1 div.sk-estimator {font-family: monospace;background-color: #f0f8ff;border: 1px dotted black;border-radius: 0.25em;box-sizing: border-box;margin-bottom: 0.5em;}#sk-container-id-1 div.sk-estimator:hover {background-color: #d4ebff;}#sk-container-id-1 div.sk-parallel-item::after {content: \"\";width: 100%;border-bottom: 1px solid gray;flex-grow: 1;}#sk-container-id-1 div.sk-label:hover label.sk-toggleable__label {background-color: #d4ebff;}#sk-container-id-1 div.sk-serial::before {content: \"\";position: absolute;border-left: 1px solid gray;box-sizing: border-box;top: 0;bottom: 0;left: 50%;z-index: 0;}#sk-container-id-1 div.sk-serial {display: flex;flex-direction: column;align-items: center;background-color: white;padding-right: 0.2em;padding-left: 0.2em;position: relative;}#sk-container-id-1 div.sk-item {position: relative;z-index: 1;}#sk-container-id-1 div.sk-parallel {display: flex;align-items: stretch;justify-content: center;background-color: white;position: relative;}#sk-container-id-1 div.sk-item::before, #sk-container-id-1 div.sk-parallel-item::before {content: \"\";position: absolute;border-left: 1px solid gray;box-sizing: border-box;top: 0;bottom: 0;left: 50%;z-index: -1;}#sk-container-id-1 div.sk-parallel-item {display: flex;flex-direction: column;z-index: 1;position: relative;background-color: white;}#sk-container-id-1 div.sk-parallel-item:first-child::after {align-self: flex-end;width: 50%;}#sk-container-id-1 div.sk-parallel-item:last-child::after {align-self: flex-start;width: 50%;}#sk-container-id-1 div.sk-parallel-item:only-child::after {width: 0;}#sk-container-id-1 div.sk-dashed-wrapped {border: 1px dashed gray;margin: 0 0.4em 0.5em 0.4em;box-sizing: border-box;padding-bottom: 0.4em;background-color: white;}#sk-container-id-1 div.sk-label label {font-family: monospace;font-weight: bold;display: inline-block;line-height: 1.2em;}#sk-container-id-1 div.sk-label-container {text-align: center;}#sk-container-id-1 div.sk-container {/* jupyter's `normalize.less` sets `[hidden] { display: none; }` but bootstrap.min.css set `[hidden] { display: none !important; }` so we also need the `!important` here to be able to override the default hidden behavior on the sphinx rendered scikit-learn.org. See: https://github.com/scikit-learn/scikit-learn/issues/21755 */display: inline-block !important;position: relative;}#sk-container-id-1 div.sk-text-repr-fallback {display: none;}</style><div id=\"sk-container-id-1\" class=\"sk-top-container\"><div class=\"sk-text-repr-fallback\"><pre>XGBRegressor(base_score=None, booster=None, callbacks=None,\n             colsample_bylevel=None, colsample_bynode=None,\n             colsample_bytree=None, early_stopping_rounds=None,\n             enable_categorical=False, eval_metric=None, feature_types=None,\n             gamma=None, gpu_id=None, grow_policy=None, importance_type=None,\n             interaction_constraints=None, learning_rate=None, max_bin=None,\n             max_cat_threshold=None, max_cat_to_onehot=None,\n             max_delta_step=None, max_depth=None, max_leaves=None,\n             min_child_weight=None, missing=nan, monotone_constraints=None,\n             n_estimators=100, n_jobs=None, num_parallel_tree=None,\n             predictor=None, random_state=None, ...)</pre><b>In a Jupyter environment, please rerun this cell to show the HTML representation or trust the notebook. <br />On GitHub, the HTML representation is unable to render, please try loading this page with nbviewer.org.</b></div><div class=\"sk-container\" hidden><div class=\"sk-item\"><div class=\"sk-estimator sk-toggleable\"><input class=\"sk-toggleable__control sk-hidden--visually\" id=\"sk-estimator-id-1\" type=\"checkbox\" checked><label for=\"sk-estimator-id-1\" class=\"sk-toggleable__label sk-toggleable__label-arrow\">XGBRegressor</label><div class=\"sk-toggleable__content\"><pre>XGBRegressor(base_score=None, booster=None, callbacks=None,\n             colsample_bylevel=None, colsample_bynode=None,\n             colsample_bytree=None, early_stopping_rounds=None,\n             enable_categorical=False, eval_metric=None, feature_types=None,\n             gamma=None, gpu_id=None, grow_policy=None, importance_type=None,\n             interaction_constraints=None, learning_rate=None, max_bin=None,\n             max_cat_threshold=None, max_cat_to_onehot=None,\n             max_delta_step=None, max_depth=None, max_leaves=None,\n             min_child_weight=None, missing=nan, monotone_constraints=None,\n             n_estimators=100, n_jobs=None, num_parallel_tree=None,\n             predictor=None, random_state=None, ...)</pre></div></div></div></div></div>"
     },
     "execution_count": 5,
     "metadata": {},
     "output_type": "execute_result"
    }
   ],
   "source": [
    "bst = XGBRegressor()\n",
    "bst.fit(data,y)"
   ],
   "metadata": {
    "collapsed": false
   }
  },
  {
   "cell_type": "code",
   "execution_count": 6,
   "outputs": [],
   "source": [
    "pred = bst.predict(data)"
   ],
   "metadata": {
    "collapsed": false
   }
  },
  {
   "cell_type": "code",
   "execution_count": 12,
   "outputs": [],
   "source": [
    "%matplotlib qt"
   ],
   "metadata": {
    "collapsed": false
   }
  },
  {
   "cell_type": "code",
   "execution_count": 13,
   "outputs": [],
   "source": [
    "import matplotlib.pyplot as plt\n",
    "x = list(range(len(y)))\n",
    "plt.plot(x,y)\n",
    "plt.plot(x,pred)\n",
    "plt.show()"
   ],
   "metadata": {
    "collapsed": false
   }
  },
  {
   "cell_type": "code",
   "execution_count": 14,
   "outputs": [
    {
     "data": {
      "text/plain": "2.002868744248034"
     },
     "execution_count": 14,
     "metadata": {},
     "output_type": "execute_result"
    }
   ],
   "source": [
    "from sklearn.metrics import mean_absolute_error\n",
    "mean_absolute_error(y,pred)"
   ],
   "metadata": {
    "collapsed": false
   }
  },
  {
   "cell_type": "code",
   "execution_count": 20,
   "outputs": [],
   "source": [
    "path_2 = r'D:\\比赛2\\GAIDC_preliminary_A\\preliminary_A.csv'\n",
    "df2 = pd.read_csv(path_2)\n",
    "df2.set_index('id',inplace=True,drop=True)\n",
    "df2.drop('date_id',axis=1,inplace=True)\n",
    "df2['time'] = df2['time'].apply(split_time)\n",
    "enc.fit(df2['transformers'])\n",
    "df2['transformers'] = enc.transform(df2['transformers'])"
   ],
   "metadata": {
    "collapsed": false
   }
  },
  {
   "cell_type": "code",
   "execution_count": 21,
   "outputs": [],
   "source": [
    "pred2 = bst.predict(df2)"
   ],
   "metadata": {
    "collapsed": false
   }
  },
  {
   "cell_type": "code",
   "execution_count": 25,
   "outputs": [],
   "source": [
    "answer = df2\n",
    "answer['y'] = pred2\n",
    "answer = answer[['y']]"
   ],
   "metadata": {
    "collapsed": false
   }
  },
  {
   "cell_type": "code",
   "execution_count": 26,
   "outputs": [],
   "source": [
    "answer.to_csv(r'D:\\比赛2\\GAIDC_preliminary_A\\preliminary_AB.csv')"
   ],
   "metadata": {
    "collapsed": false
   }
  },
  {
   "cell_type": "code",
   "execution_count": null,
   "outputs": [],
   "source": [],
   "metadata": {
    "collapsed": false
   }
  },
  {
   "cell_type": "code",
   "execution_count": null,
   "outputs": [],
   "source": [],
   "metadata": {
    "collapsed": false
   }
  },
  {
   "cell_type": "code",
   "execution_count": null,
   "outputs": [],
   "source": [],
   "metadata": {
    "collapsed": false
   }
  },
  {
   "cell_type": "code",
   "execution_count": null,
   "outputs": [],
   "source": [],
   "metadata": {
    "collapsed": false
   }
  },
  {
   "cell_type": "code",
   "execution_count": null,
   "outputs": [],
   "source": [],
   "metadata": {
    "collapsed": false
   }
  },
  {
   "cell_type": "code",
   "execution_count": 3,
   "outputs": [],
   "source": [
    "import pandas as pd\n",
    "from xgboost import XGBRegressor\n",
    "import sklearn"
   ],
   "metadata": {
    "collapsed": false
   }
  },
  {
   "cell_type": "code",
   "execution_count": 4,
   "outputs": [
    {
     "data": {
      "text/plain": "XGBRegressor(base_score=None, booster=None, callbacks=None,\n             colsample_bylevel=None, colsample_bynode=None,\n             colsample_bytree=None, early_stopping_rounds=None,\n             enable_categorical=False, eval_metric=None, feature_types=None,\n             gamma=None, gpu_id=None, grow_policy=None, importance_type=None,\n             interaction_constraints=None, learning_rate=None, max_bin=None,\n             max_cat_threshold=None, max_cat_to_onehot=None,\n             max_delta_step=None, max_depth=None, max_leaves=None,\n             min_child_weight=None, missing=nan, monotone_constraints=None,\n             n_estimators=100, n_jobs=None, num_parallel_tree=None,\n             predictor=None, random_state=None, ...)",
      "text/html": "<style>#sk-container-id-1 {color: black;background-color: white;}#sk-container-id-1 pre{padding: 0;}#sk-container-id-1 div.sk-toggleable {background-color: white;}#sk-container-id-1 label.sk-toggleable__label {cursor: pointer;display: block;width: 100%;margin-bottom: 0;padding: 0.3em;box-sizing: border-box;text-align: center;}#sk-container-id-1 label.sk-toggleable__label-arrow:before {content: \"▸\";float: left;margin-right: 0.25em;color: #696969;}#sk-container-id-1 label.sk-toggleable__label-arrow:hover:before {color: black;}#sk-container-id-1 div.sk-estimator:hover label.sk-toggleable__label-arrow:before {color: black;}#sk-container-id-1 div.sk-toggleable__content {max-height: 0;max-width: 0;overflow: hidden;text-align: left;background-color: #f0f8ff;}#sk-container-id-1 div.sk-toggleable__content pre {margin: 0.2em;color: black;border-radius: 0.25em;background-color: #f0f8ff;}#sk-container-id-1 input.sk-toggleable__control:checked~div.sk-toggleable__content {max-height: 200px;max-width: 100%;overflow: auto;}#sk-container-id-1 input.sk-toggleable__control:checked~label.sk-toggleable__label-arrow:before {content: \"▾\";}#sk-container-id-1 div.sk-estimator input.sk-toggleable__control:checked~label.sk-toggleable__label {background-color: #d4ebff;}#sk-container-id-1 div.sk-label input.sk-toggleable__control:checked~label.sk-toggleable__label {background-color: #d4ebff;}#sk-container-id-1 input.sk-hidden--visually {border: 0;clip: rect(1px 1px 1px 1px);clip: rect(1px, 1px, 1px, 1px);height: 1px;margin: -1px;overflow: hidden;padding: 0;position: absolute;width: 1px;}#sk-container-id-1 div.sk-estimator {font-family: monospace;background-color: #f0f8ff;border: 1px dotted black;border-radius: 0.25em;box-sizing: border-box;margin-bottom: 0.5em;}#sk-container-id-1 div.sk-estimator:hover {background-color: #d4ebff;}#sk-container-id-1 div.sk-parallel-item::after {content: \"\";width: 100%;border-bottom: 1px solid gray;flex-grow: 1;}#sk-container-id-1 div.sk-label:hover label.sk-toggleable__label {background-color: #d4ebff;}#sk-container-id-1 div.sk-serial::before {content: \"\";position: absolute;border-left: 1px solid gray;box-sizing: border-box;top: 0;bottom: 0;left: 50%;z-index: 0;}#sk-container-id-1 div.sk-serial {display: flex;flex-direction: column;align-items: center;background-color: white;padding-right: 0.2em;padding-left: 0.2em;position: relative;}#sk-container-id-1 div.sk-item {position: relative;z-index: 1;}#sk-container-id-1 div.sk-parallel {display: flex;align-items: stretch;justify-content: center;background-color: white;position: relative;}#sk-container-id-1 div.sk-item::before, #sk-container-id-1 div.sk-parallel-item::before {content: \"\";position: absolute;border-left: 1px solid gray;box-sizing: border-box;top: 0;bottom: 0;left: 50%;z-index: -1;}#sk-container-id-1 div.sk-parallel-item {display: flex;flex-direction: column;z-index: 1;position: relative;background-color: white;}#sk-container-id-1 div.sk-parallel-item:first-child::after {align-self: flex-end;width: 50%;}#sk-container-id-1 div.sk-parallel-item:last-child::after {align-self: flex-start;width: 50%;}#sk-container-id-1 div.sk-parallel-item:only-child::after {width: 0;}#sk-container-id-1 div.sk-dashed-wrapped {border: 1px dashed gray;margin: 0 0.4em 0.5em 0.4em;box-sizing: border-box;padding-bottom: 0.4em;background-color: white;}#sk-container-id-1 div.sk-label label {font-family: monospace;font-weight: bold;display: inline-block;line-height: 1.2em;}#sk-container-id-1 div.sk-label-container {text-align: center;}#sk-container-id-1 div.sk-container {/* jupyter's `normalize.less` sets `[hidden] { display: none; }` but bootstrap.min.css set `[hidden] { display: none !important; }` so we also need the `!important` here to be able to override the default hidden behavior on the sphinx rendered scikit-learn.org. See: https://github.com/scikit-learn/scikit-learn/issues/21755 */display: inline-block !important;position: relative;}#sk-container-id-1 div.sk-text-repr-fallback {display: none;}</style><div id=\"sk-container-id-1\" class=\"sk-top-container\"><div class=\"sk-text-repr-fallback\"><pre>XGBRegressor(base_score=None, booster=None, callbacks=None,\n             colsample_bylevel=None, colsample_bynode=None,\n             colsample_bytree=None, early_stopping_rounds=None,\n             enable_categorical=False, eval_metric=None, feature_types=None,\n             gamma=None, gpu_id=None, grow_policy=None, importance_type=None,\n             interaction_constraints=None, learning_rate=None, max_bin=None,\n             max_cat_threshold=None, max_cat_to_onehot=None,\n             max_delta_step=None, max_depth=None, max_leaves=None,\n             min_child_weight=None, missing=nan, monotone_constraints=None,\n             n_estimators=100, n_jobs=None, num_parallel_tree=None,\n             predictor=None, random_state=None, ...)</pre><b>In a Jupyter environment, please rerun this cell to show the HTML representation or trust the notebook. <br />On GitHub, the HTML representation is unable to render, please try loading this page with nbviewer.org.</b></div><div class=\"sk-container\" hidden><div class=\"sk-item\"><div class=\"sk-estimator sk-toggleable\"><input class=\"sk-toggleable__control sk-hidden--visually\" id=\"sk-estimator-id-1\" type=\"checkbox\" checked><label for=\"sk-estimator-id-1\" class=\"sk-toggleable__label sk-toggleable__label-arrow\">XGBRegressor</label><div class=\"sk-toggleable__content\"><pre>XGBRegressor(base_score=None, booster=None, callbacks=None,\n             colsample_bylevel=None, colsample_bynode=None,\n             colsample_bytree=None, early_stopping_rounds=None,\n             enable_categorical=False, eval_metric=None, feature_types=None,\n             gamma=None, gpu_id=None, grow_policy=None, importance_type=None,\n             interaction_constraints=None, learning_rate=None, max_bin=None,\n             max_cat_threshold=None, max_cat_to_onehot=None,\n             max_delta_step=None, max_depth=None, max_leaves=None,\n             min_child_weight=None, missing=nan, monotone_constraints=None,\n             n_estimators=100, n_jobs=None, num_parallel_tree=None,\n             predictor=None, random_state=None, ...)</pre></div></div></div></div></div>"
     },
     "execution_count": 4,
     "metadata": {},
     "output_type": "execute_result"
    }
   ],
   "source": [
    "ori_path = r'D:\\比赛2\\GAIDC_preliminary_A\\ETTm1.csv'\n",
    "tar_path = r'D:\\比赛2\\GAIDC_preliminary_A\\train.csv'\n",
    "\n",
    "ori = pd.read_csv(ori_path)\n",
    "ori['date'] = pd.to_datetime(ori['date'])\n",
    "ori['month'] = ori['date'].dt.month\n",
    "ori['is_weekend'] = ori['date'].dt.dayofweek >= 5\n",
    "ori['is_weekend'] = ori['is_weekend'].apply(lambda x: 1 if x else 0)\n",
    "ori.drop('date',inplace=True,axis=1)\n",
    "rename_idx = {'HUFL':'L1','HULL':'L4','MUFL':'L2','MULL':'L5','LUFL':'L3','LULL':'L6','OT':'y'}\n",
    "ori.rename(rename_idx,axis=1,inplace=True)\n",
    "tar = pd.read_csv(tar_path).groupby('transformers').get_group('M1').drop(['date_id','id','transformers','time'],axis=1)\n",
    "ori = ori[tar.columns]\n",
    "m1 = pd.concat([tar,ori])\n",
    "m1_data = m1.drop('y',axis=1)\n",
    "m1_y = m1['y']\n",
    "\n",
    "m1_data, m1_y = sklearn.utils.shuffle(m1_data, m1_y)\n",
    "bst_m1 = XGBRegressor()\n",
    "bst_m1.fit(m1_data,m1_y)"
   ],
   "metadata": {
    "collapsed": false
   }
  },
  {
   "cell_type": "code",
   "execution_count": 5,
   "outputs": [
    {
     "data": {
      "text/plain": "XGBRegressor(base_score=None, booster=None, callbacks=None,\n             colsample_bylevel=None, colsample_bynode=None,\n             colsample_bytree=None, early_stopping_rounds=None,\n             enable_categorical=False, eval_metric=None, feature_types=None,\n             gamma=None, gpu_id=None, grow_policy=None, importance_type=None,\n             interaction_constraints=None, learning_rate=None, max_bin=None,\n             max_cat_threshold=None, max_cat_to_onehot=None,\n             max_delta_step=None, max_depth=None, max_leaves=None,\n             min_child_weight=None, missing=nan, monotone_constraints=None,\n             n_estimators=100, n_jobs=None, num_parallel_tree=None,\n             predictor=None, random_state=None, ...)",
      "text/html": "<style>#sk-container-id-2 {color: black;background-color: white;}#sk-container-id-2 pre{padding: 0;}#sk-container-id-2 div.sk-toggleable {background-color: white;}#sk-container-id-2 label.sk-toggleable__label {cursor: pointer;display: block;width: 100%;margin-bottom: 0;padding: 0.3em;box-sizing: border-box;text-align: center;}#sk-container-id-2 label.sk-toggleable__label-arrow:before {content: \"▸\";float: left;margin-right: 0.25em;color: #696969;}#sk-container-id-2 label.sk-toggleable__label-arrow:hover:before {color: black;}#sk-container-id-2 div.sk-estimator:hover label.sk-toggleable__label-arrow:before {color: black;}#sk-container-id-2 div.sk-toggleable__content {max-height: 0;max-width: 0;overflow: hidden;text-align: left;background-color: #f0f8ff;}#sk-container-id-2 div.sk-toggleable__content pre {margin: 0.2em;color: black;border-radius: 0.25em;background-color: #f0f8ff;}#sk-container-id-2 input.sk-toggleable__control:checked~div.sk-toggleable__content {max-height: 200px;max-width: 100%;overflow: auto;}#sk-container-id-2 input.sk-toggleable__control:checked~label.sk-toggleable__label-arrow:before {content: \"▾\";}#sk-container-id-2 div.sk-estimator input.sk-toggleable__control:checked~label.sk-toggleable__label {background-color: #d4ebff;}#sk-container-id-2 div.sk-label input.sk-toggleable__control:checked~label.sk-toggleable__label {background-color: #d4ebff;}#sk-container-id-2 input.sk-hidden--visually {border: 0;clip: rect(1px 1px 1px 1px);clip: rect(1px, 1px, 1px, 1px);height: 1px;margin: -1px;overflow: hidden;padding: 0;position: absolute;width: 1px;}#sk-container-id-2 div.sk-estimator {font-family: monospace;background-color: #f0f8ff;border: 1px dotted black;border-radius: 0.25em;box-sizing: border-box;margin-bottom: 0.5em;}#sk-container-id-2 div.sk-estimator:hover {background-color: #d4ebff;}#sk-container-id-2 div.sk-parallel-item::after {content: \"\";width: 100%;border-bottom: 1px solid gray;flex-grow: 1;}#sk-container-id-2 div.sk-label:hover label.sk-toggleable__label {background-color: #d4ebff;}#sk-container-id-2 div.sk-serial::before {content: \"\";position: absolute;border-left: 1px solid gray;box-sizing: border-box;top: 0;bottom: 0;left: 50%;z-index: 0;}#sk-container-id-2 div.sk-serial {display: flex;flex-direction: column;align-items: center;background-color: white;padding-right: 0.2em;padding-left: 0.2em;position: relative;}#sk-container-id-2 div.sk-item {position: relative;z-index: 1;}#sk-container-id-2 div.sk-parallel {display: flex;align-items: stretch;justify-content: center;background-color: white;position: relative;}#sk-container-id-2 div.sk-item::before, #sk-container-id-2 div.sk-parallel-item::before {content: \"\";position: absolute;border-left: 1px solid gray;box-sizing: border-box;top: 0;bottom: 0;left: 50%;z-index: -1;}#sk-container-id-2 div.sk-parallel-item {display: flex;flex-direction: column;z-index: 1;position: relative;background-color: white;}#sk-container-id-2 div.sk-parallel-item:first-child::after {align-self: flex-end;width: 50%;}#sk-container-id-2 div.sk-parallel-item:last-child::after {align-self: flex-start;width: 50%;}#sk-container-id-2 div.sk-parallel-item:only-child::after {width: 0;}#sk-container-id-2 div.sk-dashed-wrapped {border: 1px dashed gray;margin: 0 0.4em 0.5em 0.4em;box-sizing: border-box;padding-bottom: 0.4em;background-color: white;}#sk-container-id-2 div.sk-label label {font-family: monospace;font-weight: bold;display: inline-block;line-height: 1.2em;}#sk-container-id-2 div.sk-label-container {text-align: center;}#sk-container-id-2 div.sk-container {/* jupyter's `normalize.less` sets `[hidden] { display: none; }` but bootstrap.min.css set `[hidden] { display: none !important; }` so we also need the `!important` here to be able to override the default hidden behavior on the sphinx rendered scikit-learn.org. See: https://github.com/scikit-learn/scikit-learn/issues/21755 */display: inline-block !important;position: relative;}#sk-container-id-2 div.sk-text-repr-fallback {display: none;}</style><div id=\"sk-container-id-2\" class=\"sk-top-container\"><div class=\"sk-text-repr-fallback\"><pre>XGBRegressor(base_score=None, booster=None, callbacks=None,\n             colsample_bylevel=None, colsample_bynode=None,\n             colsample_bytree=None, early_stopping_rounds=None,\n             enable_categorical=False, eval_metric=None, feature_types=None,\n             gamma=None, gpu_id=None, grow_policy=None, importance_type=None,\n             interaction_constraints=None, learning_rate=None, max_bin=None,\n             max_cat_threshold=None, max_cat_to_onehot=None,\n             max_delta_step=None, max_depth=None, max_leaves=None,\n             min_child_weight=None, missing=nan, monotone_constraints=None,\n             n_estimators=100, n_jobs=None, num_parallel_tree=None,\n             predictor=None, random_state=None, ...)</pre><b>In a Jupyter environment, please rerun this cell to show the HTML representation or trust the notebook. <br />On GitHub, the HTML representation is unable to render, please try loading this page with nbviewer.org.</b></div><div class=\"sk-container\" hidden><div class=\"sk-item\"><div class=\"sk-estimator sk-toggleable\"><input class=\"sk-toggleable__control sk-hidden--visually\" id=\"sk-estimator-id-2\" type=\"checkbox\" checked><label for=\"sk-estimator-id-2\" class=\"sk-toggleable__label sk-toggleable__label-arrow\">XGBRegressor</label><div class=\"sk-toggleable__content\"><pre>XGBRegressor(base_score=None, booster=None, callbacks=None,\n             colsample_bylevel=None, colsample_bynode=None,\n             colsample_bytree=None, early_stopping_rounds=None,\n             enable_categorical=False, eval_metric=None, feature_types=None,\n             gamma=None, gpu_id=None, grow_policy=None, importance_type=None,\n             interaction_constraints=None, learning_rate=None, max_bin=None,\n             max_cat_threshold=None, max_cat_to_onehot=None,\n             max_delta_step=None, max_depth=None, max_leaves=None,\n             min_child_weight=None, missing=nan, monotone_constraints=None,\n             n_estimators=100, n_jobs=None, num_parallel_tree=None,\n             predictor=None, random_state=None, ...)</pre></div></div></div></div></div>"
     },
     "execution_count": 5,
     "metadata": {},
     "output_type": "execute_result"
    }
   ],
   "source": [
    "ori_path = r'D:\\比赛2\\GAIDC_preliminary_A\\ETTm2.csv'\n",
    "tar_path = r'D:\\比赛2\\GAIDC_preliminary_A\\train.csv'\n",
    "\n",
    "ori = pd.read_csv(ori_path)\n",
    "ori['date'] = pd.to_datetime(ori['date'])\n",
    "ori['month'] = ori['date'].dt.month\n",
    "ori['is_weekend'] = ori['date'].dt.dayofweek >= 5\n",
    "ori['is_weekend'] = ori['is_weekend'].apply(lambda x: 1 if x else 0)\n",
    "ori.drop('date',inplace=True,axis=1)\n",
    "tar = pd.read_csv(tar_path).groupby('transformers').get_group('M2').drop(['date_id','id','transformers','time'],axis=1)\n",
    "rename_idx = {'HUFL':'L1','HULL':'L4','MUFL':'L2','MULL':'L5','LUFL':'L3','LULL':'L6','OT':'y'}\n",
    "ori.rename(rename_idx,axis=1,inplace=True)\n",
    "ori = ori[tar.columns]\n",
    "m2 = pd.concat([tar,ori])\n",
    "m2_data = m2.drop('y',axis=1)\n",
    "m2_y = m2['y']\n",
    "\n",
    "m2_data, m2_y = sklearn.utils.shuffle(m2_data, m2_y)\n",
    "bst_m2 = XGBRegressor()\n",
    "bst_m2.fit(m2_data,m2_y)"
   ],
   "metadata": {
    "collapsed": false
   }
  },
  {
   "cell_type": "code",
   "execution_count": null,
   "outputs": [],
   "source": [],
   "metadata": {
    "collapsed": false
   }
  },
  {
   "cell_type": "code",
   "execution_count": null,
   "outputs": [],
   "source": [
    "\n"
   ],
   "metadata": {
    "collapsed": false
   }
  },
  {
   "cell_type": "code",
   "execution_count": 25,
   "outputs": [],
   "source": [
    "q_path = r'D:\\比赛2\\GAIDC_preliminary_A\\preliminary_A.csv'\n",
    "q_m1 = pd.read_csv(q_path).groupby('transformers').get_group('M1').drop(['date_id','transformers','time'],axis=1).set_index('id',drop=True)\n",
    "q_m2 = pd.read_csv(q_path).groupby('transformers').get_group('M2').drop(['date_id','transformers','time'],axis=1).set_index('id',drop=True)"
   ],
   "metadata": {
    "collapsed": false
   }
  },
  {
   "cell_type": "code",
   "execution_count": 26,
   "outputs": [],
   "source": [
    "q_m1['y'] = bst_m1.predict(q_m1)\n",
    "q_m2['y'] = bst_m1.predict(q_m2)"
   ],
   "metadata": {
    "collapsed": false
   }
  },
  {
   "cell_type": "code",
   "execution_count": 37,
   "outputs": [],
   "source": [
    "y_m1 = q_m1['y']\n",
    "y_m2 = q_m2['y']\n",
    "y = pd.concat([y_m1,y_m2])"
   ],
   "metadata": {
    "collapsed": false
   }
  },
  {
   "cell_type": "code",
   "execution_count": 38,
   "outputs": [],
   "source": [
    "ques = pd.read_csv(q_path).set_index('id',drop=True)"
   ],
   "metadata": {
    "collapsed": false
   }
  },
  {
   "cell_type": "code",
   "execution_count": 41,
   "outputs": [],
   "source": [
    "ans = ques.join(y)"
   ],
   "metadata": {
    "collapsed": false
   }
  },
  {
   "cell_type": "code",
   "execution_count": 44,
   "outputs": [],
   "source": [
    "save_path = r'D:\\比赛2\\GAIDC_preliminary_A\\ans.csv'\n",
    "ans['y'].to_csv(save_path)"
   ],
   "metadata": {
    "collapsed": false
   }
  },
  {
   "cell_type": "code",
   "execution_count": null,
   "outputs": [],
   "source": [],
   "metadata": {
    "collapsed": false
   }
  }
 ],
 "metadata": {
  "kernelspec": {
   "display_name": "Python 3",
   "language": "python",
   "name": "python3"
  },
  "language_info": {
   "codemirror_mode": {
    "name": "ipython",
    "version": 2
   },
   "file_extension": ".py",
   "mimetype": "text/x-python",
   "name": "python",
   "nbconvert_exporter": "python",
   "pygments_lexer": "ipython2",
   "version": "2.7.6"
  }
 },
 "nbformat": 4,
 "nbformat_minor": 0
}
